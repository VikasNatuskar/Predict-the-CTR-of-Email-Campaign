{
 "cells": [
  {
   "cell_type": "code",
   "execution_count": 1,
   "id": "cf939cb8",
   "metadata": {},
   "outputs": [],
   "source": [
    "import numpy as np\n",
    "import pandas as pd\n",
    "\n",
    "import matplotlib.pyplot as plt\n",
    "import seaborn as sns\n",
    "\n",
    "import warnings\n",
    "warnings.filterwarnings('ignore')"
   ]
  },
  {
   "cell_type": "code",
   "execution_count": 2,
   "id": "ae851b47",
   "metadata": {},
   "outputs": [],
   "source": [
    "train = pd.read_csv('train.csv')\n",
    "test = pd.read_csv('test.csv')\n",
    "\n",
    "test_val = pd.read_csv('sample_submission.csv')"
   ]
  },
  {
   "cell_type": "code",
   "execution_count": 3,
   "id": "56e72a11",
   "metadata": {},
   "outputs": [
    {
     "data": {
      "text/html": [
       "<div>\n",
       "<style scoped>\n",
       "    .dataframe tbody tr th:only-of-type {\n",
       "        vertical-align: middle;\n",
       "    }\n",
       "\n",
       "    .dataframe tbody tr th {\n",
       "        vertical-align: top;\n",
       "    }\n",
       "\n",
       "    .dataframe thead th {\n",
       "        text-align: right;\n",
       "    }\n",
       "</style>\n",
       "<table border=\"1\" class=\"dataframe\">\n",
       "  <thead>\n",
       "    <tr style=\"text-align: right;\">\n",
       "      <th></th>\n",
       "      <th>campaign_id</th>\n",
       "      <th>sender</th>\n",
       "      <th>subject_len</th>\n",
       "      <th>body_len</th>\n",
       "      <th>mean_paragraph_len</th>\n",
       "      <th>day_of_week</th>\n",
       "      <th>is_weekend</th>\n",
       "      <th>times_of_day</th>\n",
       "      <th>category</th>\n",
       "      <th>product</th>\n",
       "      <th>...</th>\n",
       "      <th>is_image</th>\n",
       "      <th>is_personalised</th>\n",
       "      <th>is_quote</th>\n",
       "      <th>is_timer</th>\n",
       "      <th>is_emoticons</th>\n",
       "      <th>is_discount</th>\n",
       "      <th>is_price</th>\n",
       "      <th>is_urgency</th>\n",
       "      <th>target_audience</th>\n",
       "      <th>click_rate</th>\n",
       "    </tr>\n",
       "  </thead>\n",
       "  <tbody>\n",
       "    <tr>\n",
       "      <th>0</th>\n",
       "      <td>1</td>\n",
       "      <td>3</td>\n",
       "      <td>76</td>\n",
       "      <td>10439</td>\n",
       "      <td>39</td>\n",
       "      <td>5</td>\n",
       "      <td>1</td>\n",
       "      <td>Noon</td>\n",
       "      <td>6</td>\n",
       "      <td>26</td>\n",
       "      <td>...</td>\n",
       "      <td>0</td>\n",
       "      <td>0</td>\n",
       "      <td>0</td>\n",
       "      <td>0</td>\n",
       "      <td>0</td>\n",
       "      <td>0</td>\n",
       "      <td>0</td>\n",
       "      <td>0</td>\n",
       "      <td>14</td>\n",
       "      <td>0.103079</td>\n",
       "    </tr>\n",
       "    <tr>\n",
       "      <th>1</th>\n",
       "      <td>2</td>\n",
       "      <td>3</td>\n",
       "      <td>54</td>\n",
       "      <td>2570</td>\n",
       "      <td>256</td>\n",
       "      <td>5</td>\n",
       "      <td>1</td>\n",
       "      <td>Morning</td>\n",
       "      <td>2</td>\n",
       "      <td>11</td>\n",
       "      <td>...</td>\n",
       "      <td>0</td>\n",
       "      <td>0</td>\n",
       "      <td>0</td>\n",
       "      <td>0</td>\n",
       "      <td>0</td>\n",
       "      <td>0</td>\n",
       "      <td>0</td>\n",
       "      <td>0</td>\n",
       "      <td>10</td>\n",
       "      <td>0.700000</td>\n",
       "    </tr>\n",
       "    <tr>\n",
       "      <th>2</th>\n",
       "      <td>3</td>\n",
       "      <td>3</td>\n",
       "      <td>59</td>\n",
       "      <td>12801</td>\n",
       "      <td>16</td>\n",
       "      <td>5</td>\n",
       "      <td>1</td>\n",
       "      <td>Noon</td>\n",
       "      <td>2</td>\n",
       "      <td>11</td>\n",
       "      <td>...</td>\n",
       "      <td>1</td>\n",
       "      <td>0</td>\n",
       "      <td>1</td>\n",
       "      <td>0</td>\n",
       "      <td>0</td>\n",
       "      <td>0</td>\n",
       "      <td>0</td>\n",
       "      <td>0</td>\n",
       "      <td>16</td>\n",
       "      <td>0.002769</td>\n",
       "    </tr>\n",
       "    <tr>\n",
       "      <th>3</th>\n",
       "      <td>4</td>\n",
       "      <td>3</td>\n",
       "      <td>74</td>\n",
       "      <td>11037</td>\n",
       "      <td>30</td>\n",
       "      <td>4</td>\n",
       "      <td>0</td>\n",
       "      <td>Evening</td>\n",
       "      <td>15</td>\n",
       "      <td>9</td>\n",
       "      <td>...</td>\n",
       "      <td>0</td>\n",
       "      <td>0</td>\n",
       "      <td>0</td>\n",
       "      <td>0</td>\n",
       "      <td>0</td>\n",
       "      <td>0</td>\n",
       "      <td>0</td>\n",
       "      <td>0</td>\n",
       "      <td>10</td>\n",
       "      <td>0.010868</td>\n",
       "    </tr>\n",
       "    <tr>\n",
       "      <th>4</th>\n",
       "      <td>5</td>\n",
       "      <td>3</td>\n",
       "      <td>80</td>\n",
       "      <td>10011</td>\n",
       "      <td>27</td>\n",
       "      <td>5</td>\n",
       "      <td>1</td>\n",
       "      <td>Noon</td>\n",
       "      <td>6</td>\n",
       "      <td>26</td>\n",
       "      <td>...</td>\n",
       "      <td>0</td>\n",
       "      <td>0</td>\n",
       "      <td>1</td>\n",
       "      <td>0</td>\n",
       "      <td>0</td>\n",
       "      <td>0</td>\n",
       "      <td>0</td>\n",
       "      <td>0</td>\n",
       "      <td>14</td>\n",
       "      <td>0.142826</td>\n",
       "    </tr>\n",
       "  </tbody>\n",
       "</table>\n",
       "<p>5 rows × 22 columns</p>\n",
       "</div>"
      ],
      "text/plain": [
       "   campaign_id  sender  subject_len  body_len  mean_paragraph_len  \\\n",
       "0            1       3           76     10439                  39   \n",
       "1            2       3           54      2570                 256   \n",
       "2            3       3           59     12801                  16   \n",
       "3            4       3           74     11037                  30   \n",
       "4            5       3           80     10011                  27   \n",
       "\n",
       "   day_of_week  is_weekend times_of_day  category  product  ...  is_image  \\\n",
       "0            5           1         Noon         6       26  ...         0   \n",
       "1            5           1      Morning         2       11  ...         0   \n",
       "2            5           1         Noon         2       11  ...         1   \n",
       "3            4           0      Evening        15        9  ...         0   \n",
       "4            5           1         Noon         6       26  ...         0   \n",
       "\n",
       "   is_personalised  is_quote  is_timer  is_emoticons  is_discount  is_price  \\\n",
       "0                0         0         0             0            0         0   \n",
       "1                0         0         0             0            0         0   \n",
       "2                0         1         0             0            0         0   \n",
       "3                0         0         0             0            0         0   \n",
       "4                0         1         0             0            0         0   \n",
       "\n",
       "   is_urgency  target_audience  click_rate  \n",
       "0           0               14    0.103079  \n",
       "1           0               10    0.700000  \n",
       "2           0               16    0.002769  \n",
       "3           0               10    0.010868  \n",
       "4           0               14    0.142826  \n",
       "\n",
       "[5 rows x 22 columns]"
      ]
     },
     "execution_count": 3,
     "metadata": {},
     "output_type": "execute_result"
    }
   ],
   "source": [
    "train.head()"
   ]
  },
  {
   "cell_type": "code",
   "execution_count": 4,
   "id": "3ed7a642",
   "metadata": {},
   "outputs": [
    {
     "data": {
      "text/plain": [
       "(1888, 22)"
      ]
     },
     "execution_count": 4,
     "metadata": {},
     "output_type": "execute_result"
    }
   ],
   "source": [
    "train.shape"
   ]
  },
  {
   "cell_type": "code",
   "execution_count": 5,
   "id": "518ec126",
   "metadata": {},
   "outputs": [
    {
     "data": {
      "text/html": [
       "<div>\n",
       "<style scoped>\n",
       "    .dataframe tbody tr th:only-of-type {\n",
       "        vertical-align: middle;\n",
       "    }\n",
       "\n",
       "    .dataframe tbody tr th {\n",
       "        vertical-align: top;\n",
       "    }\n",
       "\n",
       "    .dataframe thead th {\n",
       "        text-align: right;\n",
       "    }\n",
       "</style>\n",
       "<table border=\"1\" class=\"dataframe\">\n",
       "  <thead>\n",
       "    <tr style=\"text-align: right;\">\n",
       "      <th></th>\n",
       "      <th>count</th>\n",
       "      <th>mean</th>\n",
       "      <th>std</th>\n",
       "      <th>min</th>\n",
       "      <th>25%</th>\n",
       "      <th>50%</th>\n",
       "      <th>75%</th>\n",
       "      <th>max</th>\n",
       "    </tr>\n",
       "  </thead>\n",
       "  <tbody>\n",
       "    <tr>\n",
       "      <th>campaign_id</th>\n",
       "      <td>1888.0</td>\n",
       "      <td>944.500000</td>\n",
       "      <td>545.162973</td>\n",
       "      <td>1.0</td>\n",
       "      <td>472.750000</td>\n",
       "      <td>944.500000</td>\n",
       "      <td>1416.250000</td>\n",
       "      <td>1888.000000</td>\n",
       "    </tr>\n",
       "    <tr>\n",
       "      <th>sender</th>\n",
       "      <td>1888.0</td>\n",
       "      <td>4.395657</td>\n",
       "      <td>3.277927</td>\n",
       "      <td>0.0</td>\n",
       "      <td>3.000000</td>\n",
       "      <td>3.000000</td>\n",
       "      <td>3.000000</td>\n",
       "      <td>15.000000</td>\n",
       "    </tr>\n",
       "    <tr>\n",
       "      <th>subject_len</th>\n",
       "      <td>1888.0</td>\n",
       "      <td>86.246292</td>\n",
       "      <td>30.143206</td>\n",
       "      <td>9.0</td>\n",
       "      <td>69.000000</td>\n",
       "      <td>83.000000</td>\n",
       "      <td>98.000000</td>\n",
       "      <td>265.000000</td>\n",
       "    </tr>\n",
       "    <tr>\n",
       "      <th>body_len</th>\n",
       "      <td>1888.0</td>\n",
       "      <td>14185.780191</td>\n",
       "      <td>7327.615307</td>\n",
       "      <td>23.0</td>\n",
       "      <td>9554.500000</td>\n",
       "      <td>12689.000000</td>\n",
       "      <td>17351.500000</td>\n",
       "      <td>44491.000000</td>\n",
       "    </tr>\n",
       "    <tr>\n",
       "      <th>mean_paragraph_len</th>\n",
       "      <td>1888.0</td>\n",
       "      <td>35.239407</td>\n",
       "      <td>28.139498</td>\n",
       "      <td>4.0</td>\n",
       "      <td>21.000000</td>\n",
       "      <td>29.000000</td>\n",
       "      <td>40.000000</td>\n",
       "      <td>286.000000</td>\n",
       "    </tr>\n",
       "    <tr>\n",
       "      <th>day_of_week</th>\n",
       "      <td>1888.0</td>\n",
       "      <td>2.828390</td>\n",
       "      <td>1.763193</td>\n",
       "      <td>0.0</td>\n",
       "      <td>1.000000</td>\n",
       "      <td>3.000000</td>\n",
       "      <td>4.000000</td>\n",
       "      <td>6.000000</td>\n",
       "    </tr>\n",
       "    <tr>\n",
       "      <th>is_weekend</th>\n",
       "      <td>1888.0</td>\n",
       "      <td>0.199682</td>\n",
       "      <td>0.399867</td>\n",
       "      <td>0.0</td>\n",
       "      <td>0.000000</td>\n",
       "      <td>0.000000</td>\n",
       "      <td>0.000000</td>\n",
       "      <td>1.000000</td>\n",
       "    </tr>\n",
       "    <tr>\n",
       "      <th>category</th>\n",
       "      <td>1888.0</td>\n",
       "      <td>9.949682</td>\n",
       "      <td>5.300719</td>\n",
       "      <td>0.0</td>\n",
       "      <td>6.000000</td>\n",
       "      <td>10.000000</td>\n",
       "      <td>15.000000</td>\n",
       "      <td>15.000000</td>\n",
       "    </tr>\n",
       "    <tr>\n",
       "      <th>product</th>\n",
       "      <td>1888.0</td>\n",
       "      <td>17.525424</td>\n",
       "      <td>12.369526</td>\n",
       "      <td>0.0</td>\n",
       "      <td>9.000000</td>\n",
       "      <td>12.000000</td>\n",
       "      <td>27.250000</td>\n",
       "      <td>43.000000</td>\n",
       "    </tr>\n",
       "    <tr>\n",
       "      <th>no_of_CTA</th>\n",
       "      <td>1888.0</td>\n",
       "      <td>4.222458</td>\n",
       "      <td>4.628348</td>\n",
       "      <td>0.0</td>\n",
       "      <td>2.000000</td>\n",
       "      <td>3.000000</td>\n",
       "      <td>5.000000</td>\n",
       "      <td>49.000000</td>\n",
       "    </tr>\n",
       "    <tr>\n",
       "      <th>mean_CTA_len</th>\n",
       "      <td>1888.0</td>\n",
       "      <td>30.233051</td>\n",
       "      <td>11.848663</td>\n",
       "      <td>0.0</td>\n",
       "      <td>23.000000</td>\n",
       "      <td>29.000000</td>\n",
       "      <td>35.000000</td>\n",
       "      <td>162.000000</td>\n",
       "    </tr>\n",
       "    <tr>\n",
       "      <th>is_image</th>\n",
       "      <td>1888.0</td>\n",
       "      <td>0.909958</td>\n",
       "      <td>0.866467</td>\n",
       "      <td>0.0</td>\n",
       "      <td>0.000000</td>\n",
       "      <td>1.000000</td>\n",
       "      <td>2.000000</td>\n",
       "      <td>6.000000</td>\n",
       "    </tr>\n",
       "    <tr>\n",
       "      <th>is_personalised</th>\n",
       "      <td>1888.0</td>\n",
       "      <td>0.056674</td>\n",
       "      <td>0.231279</td>\n",
       "      <td>0.0</td>\n",
       "      <td>0.000000</td>\n",
       "      <td>0.000000</td>\n",
       "      <td>0.000000</td>\n",
       "      <td>1.000000</td>\n",
       "    </tr>\n",
       "    <tr>\n",
       "      <th>is_quote</th>\n",
       "      <td>1888.0</td>\n",
       "      <td>0.834216</td>\n",
       "      <td>1.033901</td>\n",
       "      <td>0.0</td>\n",
       "      <td>0.000000</td>\n",
       "      <td>1.000000</td>\n",
       "      <td>1.000000</td>\n",
       "      <td>6.000000</td>\n",
       "    </tr>\n",
       "    <tr>\n",
       "      <th>is_timer</th>\n",
       "      <td>1888.0</td>\n",
       "      <td>0.000000</td>\n",
       "      <td>0.000000</td>\n",
       "      <td>0.0</td>\n",
       "      <td>0.000000</td>\n",
       "      <td>0.000000</td>\n",
       "      <td>0.000000</td>\n",
       "      <td>0.000000</td>\n",
       "    </tr>\n",
       "    <tr>\n",
       "      <th>is_emoticons</th>\n",
       "      <td>1888.0</td>\n",
       "      <td>0.210805</td>\n",
       "      <td>0.613442</td>\n",
       "      <td>0.0</td>\n",
       "      <td>0.000000</td>\n",
       "      <td>0.000000</td>\n",
       "      <td>0.000000</td>\n",
       "      <td>6.000000</td>\n",
       "    </tr>\n",
       "    <tr>\n",
       "      <th>is_discount</th>\n",
       "      <td>1888.0</td>\n",
       "      <td>0.039725</td>\n",
       "      <td>0.195363</td>\n",
       "      <td>0.0</td>\n",
       "      <td>0.000000</td>\n",
       "      <td>0.000000</td>\n",
       "      <td>0.000000</td>\n",
       "      <td>1.000000</td>\n",
       "    </tr>\n",
       "    <tr>\n",
       "      <th>is_price</th>\n",
       "      <td>1888.0</td>\n",
       "      <td>40.197034</td>\n",
       "      <td>553.957470</td>\n",
       "      <td>0.0</td>\n",
       "      <td>0.000000</td>\n",
       "      <td>0.000000</td>\n",
       "      <td>0.000000</td>\n",
       "      <td>14999.000000</td>\n",
       "    </tr>\n",
       "    <tr>\n",
       "      <th>is_urgency</th>\n",
       "      <td>1888.0</td>\n",
       "      <td>0.112288</td>\n",
       "      <td>0.315804</td>\n",
       "      <td>0.0</td>\n",
       "      <td>0.000000</td>\n",
       "      <td>0.000000</td>\n",
       "      <td>0.000000</td>\n",
       "      <td>1.000000</td>\n",
       "    </tr>\n",
       "    <tr>\n",
       "      <th>target_audience</th>\n",
       "      <td>1888.0</td>\n",
       "      <td>11.634534</td>\n",
       "      <td>2.949121</td>\n",
       "      <td>0.0</td>\n",
       "      <td>12.000000</td>\n",
       "      <td>12.000000</td>\n",
       "      <td>12.000000</td>\n",
       "      <td>16.000000</td>\n",
       "    </tr>\n",
       "    <tr>\n",
       "      <th>click_rate</th>\n",
       "      <td>1888.0</td>\n",
       "      <td>0.041888</td>\n",
       "      <td>0.084223</td>\n",
       "      <td>0.0</td>\n",
       "      <td>0.005413</td>\n",
       "      <td>0.010686</td>\n",
       "      <td>0.035589</td>\n",
       "      <td>0.897959</td>\n",
       "    </tr>\n",
       "  </tbody>\n",
       "</table>\n",
       "</div>"
      ],
      "text/plain": [
       "                     count          mean          std   min          25%  \\\n",
       "campaign_id         1888.0    944.500000   545.162973   1.0   472.750000   \n",
       "sender              1888.0      4.395657     3.277927   0.0     3.000000   \n",
       "subject_len         1888.0     86.246292    30.143206   9.0    69.000000   \n",
       "body_len            1888.0  14185.780191  7327.615307  23.0  9554.500000   \n",
       "mean_paragraph_len  1888.0     35.239407    28.139498   4.0    21.000000   \n",
       "day_of_week         1888.0      2.828390     1.763193   0.0     1.000000   \n",
       "is_weekend          1888.0      0.199682     0.399867   0.0     0.000000   \n",
       "category            1888.0      9.949682     5.300719   0.0     6.000000   \n",
       "product             1888.0     17.525424    12.369526   0.0     9.000000   \n",
       "no_of_CTA           1888.0      4.222458     4.628348   0.0     2.000000   \n",
       "mean_CTA_len        1888.0     30.233051    11.848663   0.0    23.000000   \n",
       "is_image            1888.0      0.909958     0.866467   0.0     0.000000   \n",
       "is_personalised     1888.0      0.056674     0.231279   0.0     0.000000   \n",
       "is_quote            1888.0      0.834216     1.033901   0.0     0.000000   \n",
       "is_timer            1888.0      0.000000     0.000000   0.0     0.000000   \n",
       "is_emoticons        1888.0      0.210805     0.613442   0.0     0.000000   \n",
       "is_discount         1888.0      0.039725     0.195363   0.0     0.000000   \n",
       "is_price            1888.0     40.197034   553.957470   0.0     0.000000   \n",
       "is_urgency          1888.0      0.112288     0.315804   0.0     0.000000   \n",
       "target_audience     1888.0     11.634534     2.949121   0.0    12.000000   \n",
       "click_rate          1888.0      0.041888     0.084223   0.0     0.005413   \n",
       "\n",
       "                             50%           75%           max  \n",
       "campaign_id           944.500000   1416.250000   1888.000000  \n",
       "sender                  3.000000      3.000000     15.000000  \n",
       "subject_len            83.000000     98.000000    265.000000  \n",
       "body_len            12689.000000  17351.500000  44491.000000  \n",
       "mean_paragraph_len     29.000000     40.000000    286.000000  \n",
       "day_of_week             3.000000      4.000000      6.000000  \n",
       "is_weekend              0.000000      0.000000      1.000000  \n",
       "category               10.000000     15.000000     15.000000  \n",
       "product                12.000000     27.250000     43.000000  \n",
       "no_of_CTA               3.000000      5.000000     49.000000  \n",
       "mean_CTA_len           29.000000     35.000000    162.000000  \n",
       "is_image                1.000000      2.000000      6.000000  \n",
       "is_personalised         0.000000      0.000000      1.000000  \n",
       "is_quote                1.000000      1.000000      6.000000  \n",
       "is_timer                0.000000      0.000000      0.000000  \n",
       "is_emoticons            0.000000      0.000000      6.000000  \n",
       "is_discount             0.000000      0.000000      1.000000  \n",
       "is_price                0.000000      0.000000  14999.000000  \n",
       "is_urgency              0.000000      0.000000      1.000000  \n",
       "target_audience        12.000000     12.000000     16.000000  \n",
       "click_rate              0.010686      0.035589      0.897959  "
      ]
     },
     "execution_count": 5,
     "metadata": {},
     "output_type": "execute_result"
    }
   ],
   "source": [
    "train.describe().T"
   ]
  },
  {
   "cell_type": "code",
   "execution_count": 6,
   "id": "00c1df39",
   "metadata": {},
   "outputs": [
    {
     "data": {
      "text/plain": [
       "False"
      ]
     },
     "execution_count": 6,
     "metadata": {},
     "output_type": "execute_result"
    }
   ],
   "source": [
    "train.isna().sum().any()"
   ]
  },
  {
   "cell_type": "code",
   "execution_count": 7,
   "id": "7d9c53db",
   "metadata": {},
   "outputs": [
    {
     "name": "stdout",
     "output_type": "stream",
     "text": [
      "<class 'pandas.core.frame.DataFrame'>\n",
      "RangeIndex: 1888 entries, 0 to 1887\n",
      "Data columns (total 22 columns):\n",
      " #   Column              Non-Null Count  Dtype  \n",
      "---  ------              --------------  -----  \n",
      " 0   campaign_id         1888 non-null   int64  \n",
      " 1   sender              1888 non-null   int64  \n",
      " 2   subject_len         1888 non-null   int64  \n",
      " 3   body_len            1888 non-null   int64  \n",
      " 4   mean_paragraph_len  1888 non-null   int64  \n",
      " 5   day_of_week         1888 non-null   int64  \n",
      " 6   is_weekend          1888 non-null   int64  \n",
      " 7   times_of_day        1888 non-null   object \n",
      " 8   category            1888 non-null   int64  \n",
      " 9   product             1888 non-null   int64  \n",
      " 10  no_of_CTA           1888 non-null   int64  \n",
      " 11  mean_CTA_len        1888 non-null   int64  \n",
      " 12  is_image            1888 non-null   int64  \n",
      " 13  is_personalised     1888 non-null   int64  \n",
      " 14  is_quote            1888 non-null   int64  \n",
      " 15  is_timer            1888 non-null   int64  \n",
      " 16  is_emoticons        1888 non-null   int64  \n",
      " 17  is_discount         1888 non-null   int64  \n",
      " 18  is_price            1888 non-null   int64  \n",
      " 19  is_urgency          1888 non-null   int64  \n",
      " 20  target_audience     1888 non-null   int64  \n",
      " 21  click_rate          1888 non-null   float64\n",
      "dtypes: float64(1), int64(20), object(1)\n",
      "memory usage: 324.6+ KB\n"
     ]
    }
   ],
   "source": [
    "train.info()"
   ]
  },
  {
   "cell_type": "code",
   "execution_count": 8,
   "id": "9449aa11",
   "metadata": {},
   "outputs": [],
   "source": [
    "train.drop(['is_timer'], axis=1, inplace=True)"
   ]
  },
  {
   "cell_type": "code",
   "execution_count": 9,
   "id": "84988fb3",
   "metadata": {},
   "outputs": [
    {
     "data": {
      "text/html": [
       "<div>\n",
       "<style scoped>\n",
       "    .dataframe tbody tr th:only-of-type {\n",
       "        vertical-align: middle;\n",
       "    }\n",
       "\n",
       "    .dataframe tbody tr th {\n",
       "        vertical-align: top;\n",
       "    }\n",
       "\n",
       "    .dataframe thead th {\n",
       "        text-align: right;\n",
       "    }\n",
       "</style>\n",
       "<table border=\"1\" class=\"dataframe\">\n",
       "  <thead>\n",
       "    <tr style=\"text-align: right;\">\n",
       "      <th></th>\n",
       "      <th>campaign_id</th>\n",
       "      <th>sender</th>\n",
       "      <th>subject_len</th>\n",
       "      <th>body_len</th>\n",
       "      <th>mean_paragraph_len</th>\n",
       "      <th>day_of_week</th>\n",
       "      <th>is_weekend</th>\n",
       "      <th>times_of_day</th>\n",
       "      <th>category</th>\n",
       "      <th>product</th>\n",
       "      <th>...</th>\n",
       "      <th>mean_CTA_len</th>\n",
       "      <th>is_image</th>\n",
       "      <th>is_personalised</th>\n",
       "      <th>is_quote</th>\n",
       "      <th>is_timer</th>\n",
       "      <th>is_emoticons</th>\n",
       "      <th>is_discount</th>\n",
       "      <th>is_price</th>\n",
       "      <th>is_urgency</th>\n",
       "      <th>target_audience</th>\n",
       "    </tr>\n",
       "  </thead>\n",
       "  <tbody>\n",
       "    <tr>\n",
       "      <th>0</th>\n",
       "      <td>1889</td>\n",
       "      <td>3</td>\n",
       "      <td>61</td>\n",
       "      <td>12871</td>\n",
       "      <td>11</td>\n",
       "      <td>6</td>\n",
       "      <td>1</td>\n",
       "      <td>Noon</td>\n",
       "      <td>6</td>\n",
       "      <td>26</td>\n",
       "      <td>...</td>\n",
       "      <td>37</td>\n",
       "      <td>1</td>\n",
       "      <td>0</td>\n",
       "      <td>0</td>\n",
       "      <td>0</td>\n",
       "      <td>1</td>\n",
       "      <td>0</td>\n",
       "      <td>0</td>\n",
       "      <td>0</td>\n",
       "      <td>14</td>\n",
       "    </tr>\n",
       "    <tr>\n",
       "      <th>1</th>\n",
       "      <td>1890</td>\n",
       "      <td>3</td>\n",
       "      <td>54</td>\n",
       "      <td>2569</td>\n",
       "      <td>256</td>\n",
       "      <td>5</td>\n",
       "      <td>1</td>\n",
       "      <td>Morning</td>\n",
       "      <td>2</td>\n",
       "      <td>11</td>\n",
       "      <td>...</td>\n",
       "      <td>22</td>\n",
       "      <td>0</td>\n",
       "      <td>0</td>\n",
       "      <td>0</td>\n",
       "      <td>0</td>\n",
       "      <td>0</td>\n",
       "      <td>0</td>\n",
       "      <td>0</td>\n",
       "      <td>0</td>\n",
       "      <td>10</td>\n",
       "    </tr>\n",
       "    <tr>\n",
       "      <th>2</th>\n",
       "      <td>1891</td>\n",
       "      <td>3</td>\n",
       "      <td>88</td>\n",
       "      <td>1473</td>\n",
       "      <td>78</td>\n",
       "      <td>4</td>\n",
       "      <td>0</td>\n",
       "      <td>Evening</td>\n",
       "      <td>2</td>\n",
       "      <td>11</td>\n",
       "      <td>...</td>\n",
       "      <td>22</td>\n",
       "      <td>1</td>\n",
       "      <td>0</td>\n",
       "      <td>1</td>\n",
       "      <td>0</td>\n",
       "      <td>0</td>\n",
       "      <td>0</td>\n",
       "      <td>0</td>\n",
       "      <td>0</td>\n",
       "      <td>10</td>\n",
       "    </tr>\n",
       "    <tr>\n",
       "      <th>3</th>\n",
       "      <td>1892</td>\n",
       "      <td>3</td>\n",
       "      <td>88</td>\n",
       "      <td>1473</td>\n",
       "      <td>78</td>\n",
       "      <td>3</td>\n",
       "      <td>0</td>\n",
       "      <td>Evening</td>\n",
       "      <td>2</td>\n",
       "      <td>11</td>\n",
       "      <td>...</td>\n",
       "      <td>22</td>\n",
       "      <td>1</td>\n",
       "      <td>0</td>\n",
       "      <td>1</td>\n",
       "      <td>0</td>\n",
       "      <td>0</td>\n",
       "      <td>0</td>\n",
       "      <td>0</td>\n",
       "      <td>0</td>\n",
       "      <td>10</td>\n",
       "    </tr>\n",
       "    <tr>\n",
       "      <th>4</th>\n",
       "      <td>1893</td>\n",
       "      <td>3</td>\n",
       "      <td>78</td>\n",
       "      <td>9020</td>\n",
       "      <td>29</td>\n",
       "      <td>3</td>\n",
       "      <td>0</td>\n",
       "      <td>Noon</td>\n",
       "      <td>6</td>\n",
       "      <td>26</td>\n",
       "      <td>...</td>\n",
       "      <td>40</td>\n",
       "      <td>0</td>\n",
       "      <td>0</td>\n",
       "      <td>0</td>\n",
       "      <td>0</td>\n",
       "      <td>0</td>\n",
       "      <td>0</td>\n",
       "      <td>0</td>\n",
       "      <td>0</td>\n",
       "      <td>14</td>\n",
       "    </tr>\n",
       "  </tbody>\n",
       "</table>\n",
       "<p>5 rows × 21 columns</p>\n",
       "</div>"
      ],
      "text/plain": [
       "   campaign_id  sender  subject_len  body_len  mean_paragraph_len  \\\n",
       "0         1889       3           61     12871                  11   \n",
       "1         1890       3           54      2569                 256   \n",
       "2         1891       3           88      1473                  78   \n",
       "3         1892       3           88      1473                  78   \n",
       "4         1893       3           78      9020                  29   \n",
       "\n",
       "   day_of_week  is_weekend times_of_day  category  product  ...  mean_CTA_len  \\\n",
       "0            6           1         Noon         6       26  ...            37   \n",
       "1            5           1      Morning         2       11  ...            22   \n",
       "2            4           0      Evening         2       11  ...            22   \n",
       "3            3           0      Evening         2       11  ...            22   \n",
       "4            3           0         Noon         6       26  ...            40   \n",
       "\n",
       "   is_image  is_personalised  is_quote  is_timer  is_emoticons  is_discount  \\\n",
       "0         1                0         0         0             1            0   \n",
       "1         0                0         0         0             0            0   \n",
       "2         1                0         1         0             0            0   \n",
       "3         1                0         1         0             0            0   \n",
       "4         0                0         0         0             0            0   \n",
       "\n",
       "   is_price  is_urgency  target_audience  \n",
       "0         0           0               14  \n",
       "1         0           0               10  \n",
       "2         0           0               10  \n",
       "3         0           0               10  \n",
       "4         0           0               14  \n",
       "\n",
       "[5 rows x 21 columns]"
      ]
     },
     "execution_count": 9,
     "metadata": {},
     "output_type": "execute_result"
    }
   ],
   "source": [
    "test.head()"
   ]
  },
  {
   "cell_type": "code",
   "execution_count": 10,
   "id": "acf1899d",
   "metadata": {},
   "outputs": [
    {
     "data": {
      "text/plain": [
       "(762, 21)"
      ]
     },
     "execution_count": 10,
     "metadata": {},
     "output_type": "execute_result"
    }
   ],
   "source": [
    "test.shape"
   ]
  },
  {
   "cell_type": "code",
   "execution_count": 11,
   "id": "258f5fcc",
   "metadata": {},
   "outputs": [
    {
     "data": {
      "text/plain": [
       "False"
      ]
     },
     "execution_count": 11,
     "metadata": {},
     "output_type": "execute_result"
    }
   ],
   "source": [
    "test.isna().sum().any()"
   ]
  },
  {
   "cell_type": "code",
   "execution_count": 12,
   "id": "ad6f8a67",
   "metadata": {},
   "outputs": [],
   "source": [
    "test.drop(['is_timer'], axis=1, inplace=True)"
   ]
  },
  {
   "cell_type": "code",
   "execution_count": 13,
   "id": "0ecad42c",
   "metadata": {},
   "outputs": [
    {
     "data": {
      "text/plain": [
       "3     1559\n",
       "10     181\n",
       "15      89\n",
       "6       22\n",
       "9       13\n",
       "11       7\n",
       "14       7\n",
       "0        3\n",
       "12       3\n",
       "7        2\n",
       "1        1\n",
       "2        1\n",
       "Name: sender, dtype: int64"
      ]
     },
     "execution_count": 13,
     "metadata": {},
     "output_type": "execute_result"
    }
   ],
   "source": [
    "train['sender'].value_counts()"
   ]
  },
  {
   "cell_type": "code",
   "execution_count": 14,
   "id": "7047ea47",
   "metadata": {},
   "outputs": [
    {
     "data": {
      "image/png": "[encoded data removed]",
      "text/plain": [
       "<Figure size 720x576 with 1 Axes>"
      ]
     },
     "metadata": {
      "needs_background": "light"
     },
     "output_type": "display_data"
    }
   ],
   "source": [
    "plt.figure(figsize=[10,8])\n",
    "train['day_of_week'].value_counts(normalize=True)\n",
    "train['day_of_week'].value_counts().plot.bar()\n",
    "plt.xlabel('No of days', fontsize = 20)\n",
    "plt.ylabel('Counts', fontsize = 20)\n",
    "plt.yticks(fontsize = 15)\n",
    "plt.xticks(fontsize = 20, rotation = 0)\n",
    "plt.show()"
   ]
  },
  {
   "cell_type": "code",
   "execution_count": 15,
   "id": "70814299",
   "metadata": {},
   "outputs": [
    {
     "data": {
      "image/png": "[encoded data removed]",
      "text/plain": [
       "<Figure size 576x432 with 1 Axes>"
      ]
     },
     "metadata": {
      "needs_background": "light"
     },
     "output_type": "display_data"
    }
   ],
   "source": [
    "plt.figure(figsize=[8,6])\n",
    "sns.countplot(x= 'is_weekend', data=train)\n",
    "plt.xlabel('weekends', fontsize = 15)\n",
    "plt.ylabel('Counts', fontsize = 15)\n",
    "plt.yticks(fontsize = 10)\n",
    "plt.xticks(fontsize = 10)\n",
    "plt.show()"
   ]
  },
  {
   "cell_type": "code",
   "execution_count": 16,
   "id": "82946a9e",
   "metadata": {},
   "outputs": [
    {
     "data": {
      "image/png": "[encoded data removed]",
      "text/plain": [
       "<Figure size 720x576 with 1 Axes>"
      ]
     },
     "metadata": {
      "needs_background": "light"
     },
     "output_type": "display_data"
    }
   ],
   "source": [
    "plt.figure(figsize=[10,8])\n",
    "sns.countplot(x= 'times_of_day', data=train)\n",
    "plt.xlabel('Times of days', fontsize = 15)\n",
    "plt.ylabel('Counts', fontsize = 15)\n",
    "plt.yticks(fontsize = 10)\n",
    "plt.xticks(fontsize = 10)\n",
    "plt.show()"
   ]
  },
  {
   "cell_type": "code",
   "execution_count": 17,
   "id": "4f712f31",
   "metadata": {},
   "outputs": [
    {
     "data": {
      "text/plain": [
       "array([ 6,  2, 15,  1,  7, 10,  9, 12,  4,  3,  0, 13, 11, 14,  8,  5],\n",
       "      dtype=int64)"
      ]
     },
     "execution_count": 17,
     "metadata": {},
     "output_type": "execute_result"
    }
   ],
   "source": [
    "train['category'].unique()"
   ]
  },
  {
   "cell_type": "code",
   "execution_count": 18,
   "id": "b6e3b666",
   "metadata": {},
   "outputs": [
    {
     "data": {
      "image/png": "[encoded data removed]",
      "text/plain": [
       "<Figure size 576x432 with 1 Axes>"
      ]
     },
     "metadata": {
      "needs_background": "light"
     },
     "output_type": "display_data"
    }
   ],
   "source": [
    "plt.figure(figsize=[8,6])\n",
    "sns.countplot(x= 'is_image', data=train)\n",
    "plt.xlabel('no of images', fontsize = 15)\n",
    "plt.ylabel('Counts', fontsize = 15)\n",
    "plt.yticks(fontsize = 10)\n",
    "plt.xticks(fontsize = 10)\n",
    "plt.show()"
   ]
  },
  {
   "cell_type": "code",
   "execution_count": 19,
   "id": "4a6ccc4c",
   "metadata": {},
   "outputs": [
    {
     "data": {
      "image/png": "[encoded data removed]",
      "text/plain": [
       "<Figure size 1080x720 with 2 Axes>"
      ]
     },
     "metadata": {
      "needs_background": "light"
     },
     "output_type": "display_data"
    }
   ],
   "source": [
    "plt.figure(figsize=[15,10])\n",
    "sns.heatmap(data=train.corr(), annot=True, cmap ='coolwarm')\n",
    "plt.show()"
   ]
  },
  {
   "cell_type": "code",
   "execution_count": 20,
   "id": "9c2f0d48",
   "metadata": {},
   "outputs": [
    {
     "data": {
      "text/plain": [
       "(2650, 21)"
      ]
     },
     "execution_count": 20,
     "metadata": {},
     "output_type": "execute_result"
    }
   ],
   "source": [
    "data = pd.concat([train, test])\n",
    "data.shape"
   ]
  },
  {
   "cell_type": "code",
   "execution_count": 21,
   "id": "094cd40c",
   "metadata": {},
   "outputs": [
    {
     "data": {
      "text/html": [
       "<div>\n",
       "<style scoped>\n",
       "    .dataframe tbody tr th:only-of-type {\n",
       "        vertical-align: middle;\n",
       "    }\n",
       "\n",
       "    .dataframe tbody tr th {\n",
       "        vertical-align: top;\n",
       "    }\n",
       "\n",
       "    .dataframe thead th {\n",
       "        text-align: right;\n",
       "    }\n",
       "</style>\n",
       "<table border=\"1\" class=\"dataframe\">\n",
       "  <thead>\n",
       "    <tr style=\"text-align: right;\">\n",
       "      <th></th>\n",
       "      <th>campaign_id</th>\n",
       "      <th>sender</th>\n",
       "      <th>subject_len</th>\n",
       "      <th>body_len</th>\n",
       "      <th>mean_paragraph_len</th>\n",
       "      <th>day_of_week</th>\n",
       "      <th>is_weekend</th>\n",
       "      <th>times_of_day</th>\n",
       "      <th>category</th>\n",
       "      <th>product</th>\n",
       "      <th>...</th>\n",
       "      <th>mean_CTA_len</th>\n",
       "      <th>is_image</th>\n",
       "      <th>is_personalised</th>\n",
       "      <th>is_quote</th>\n",
       "      <th>is_emoticons</th>\n",
       "      <th>is_discount</th>\n",
       "      <th>is_price</th>\n",
       "      <th>is_urgency</th>\n",
       "      <th>target_audience</th>\n",
       "      <th>click_rate</th>\n",
       "    </tr>\n",
       "  </thead>\n",
       "  <tbody>\n",
       "    <tr>\n",
       "      <th>0</th>\n",
       "      <td>1</td>\n",
       "      <td>3</td>\n",
       "      <td>76</td>\n",
       "      <td>10439</td>\n",
       "      <td>39</td>\n",
       "      <td>5</td>\n",
       "      <td>1</td>\n",
       "      <td>Noon</td>\n",
       "      <td>6</td>\n",
       "      <td>26</td>\n",
       "      <td>...</td>\n",
       "      <td>29</td>\n",
       "      <td>0</td>\n",
       "      <td>0</td>\n",
       "      <td>0</td>\n",
       "      <td>0</td>\n",
       "      <td>0</td>\n",
       "      <td>0</td>\n",
       "      <td>0</td>\n",
       "      <td>14</td>\n",
       "      <td>0.103079</td>\n",
       "    </tr>\n",
       "    <tr>\n",
       "      <th>1</th>\n",
       "      <td>2</td>\n",
       "      <td>3</td>\n",
       "      <td>54</td>\n",
       "      <td>2570</td>\n",
       "      <td>256</td>\n",
       "      <td>5</td>\n",
       "      <td>1</td>\n",
       "      <td>Morning</td>\n",
       "      <td>2</td>\n",
       "      <td>11</td>\n",
       "      <td>...</td>\n",
       "      <td>22</td>\n",
       "      <td>0</td>\n",
       "      <td>0</td>\n",
       "      <td>0</td>\n",
       "      <td>0</td>\n",
       "      <td>0</td>\n",
       "      <td>0</td>\n",
       "      <td>0</td>\n",
       "      <td>10</td>\n",
       "      <td>0.700000</td>\n",
       "    </tr>\n",
       "    <tr>\n",
       "      <th>2</th>\n",
       "      <td>3</td>\n",
       "      <td>3</td>\n",
       "      <td>59</td>\n",
       "      <td>12801</td>\n",
       "      <td>16</td>\n",
       "      <td>5</td>\n",
       "      <td>1</td>\n",
       "      <td>Noon</td>\n",
       "      <td>2</td>\n",
       "      <td>11</td>\n",
       "      <td>...</td>\n",
       "      <td>23</td>\n",
       "      <td>1</td>\n",
       "      <td>0</td>\n",
       "      <td>1</td>\n",
       "      <td>0</td>\n",
       "      <td>0</td>\n",
       "      <td>0</td>\n",
       "      <td>0</td>\n",
       "      <td>16</td>\n",
       "      <td>0.002769</td>\n",
       "    </tr>\n",
       "    <tr>\n",
       "      <th>3</th>\n",
       "      <td>4</td>\n",
       "      <td>3</td>\n",
       "      <td>74</td>\n",
       "      <td>11037</td>\n",
       "      <td>30</td>\n",
       "      <td>4</td>\n",
       "      <td>0</td>\n",
       "      <td>Evening</td>\n",
       "      <td>15</td>\n",
       "      <td>9</td>\n",
       "      <td>...</td>\n",
       "      <td>24</td>\n",
       "      <td>0</td>\n",
       "      <td>0</td>\n",
       "      <td>0</td>\n",
       "      <td>0</td>\n",
       "      <td>0</td>\n",
       "      <td>0</td>\n",
       "      <td>0</td>\n",
       "      <td>10</td>\n",
       "      <td>0.010868</td>\n",
       "    </tr>\n",
       "    <tr>\n",
       "      <th>4</th>\n",
       "      <td>5</td>\n",
       "      <td>3</td>\n",
       "      <td>80</td>\n",
       "      <td>10011</td>\n",
       "      <td>27</td>\n",
       "      <td>5</td>\n",
       "      <td>1</td>\n",
       "      <td>Noon</td>\n",
       "      <td>6</td>\n",
       "      <td>26</td>\n",
       "      <td>...</td>\n",
       "      <td>31</td>\n",
       "      <td>0</td>\n",
       "      <td>0</td>\n",
       "      <td>1</td>\n",
       "      <td>0</td>\n",
       "      <td>0</td>\n",
       "      <td>0</td>\n",
       "      <td>0</td>\n",
       "      <td>14</td>\n",
       "      <td>0.142826</td>\n",
       "    </tr>\n",
       "  </tbody>\n",
       "</table>\n",
       "<p>5 rows × 21 columns</p>\n",
       "</div>"
      ],
      "text/plain": [
       "   campaign_id  sender  subject_len  body_len  mean_paragraph_len  \\\n",
       "0            1       3           76     10439                  39   \n",
       "1            2       3           54      2570                 256   \n",
       "2            3       3           59     12801                  16   \n",
       "3            4       3           74     11037                  30   \n",
       "4            5       3           80     10011                  27   \n",
       "\n",
       "   day_of_week  is_weekend times_of_day  category  product  ...  mean_CTA_len  \\\n",
       "0            5           1         Noon         6       26  ...            29   \n",
       "1            5           1      Morning         2       11  ...            22   \n",
       "2            5           1         Noon         2       11  ...            23   \n",
       "3            4           0      Evening        15        9  ...            24   \n",
       "4            5           1         Noon         6       26  ...            31   \n",
       "\n",
       "   is_image  is_personalised  is_quote  is_emoticons  is_discount  is_price  \\\n",
       "0         0                0         0             0            0         0   \n",
       "1         0                0         0             0            0         0   \n",
       "2         1                0         1             0            0         0   \n",
       "3         0                0         0             0            0         0   \n",
       "4         0                0         1             0            0         0   \n",
       "\n",
       "   is_urgency  target_audience  click_rate  \n",
       "0           0               14    0.103079  \n",
       "1           0               10    0.700000  \n",
       "2           0               16    0.002769  \n",
       "3           0               10    0.010868  \n",
       "4           0               14    0.142826  \n",
       "\n",
       "[5 rows x 21 columns]"
      ]
     },
     "execution_count": 21,
     "metadata": {},
     "output_type": "execute_result"
    }
   ],
   "source": [
    "data.head()"
   ]
  },
  {
   "cell_type": "code",
   "execution_count": 22,
   "id": "2e5206c0",
   "metadata": {},
   "outputs": [],
   "source": [
    "data.drop(['mean_paragraph_len'], axis=1, inplace= True)"
   ]
  },
  {
   "cell_type": "code",
   "execution_count": 23,
   "id": "4a296903",
   "metadata": {},
   "outputs": [],
   "source": [
    "from sklearn.preprocessing import LabelEncoder\n",
    "le = LabelEncoder()"
   ]
  },
  {
   "cell_type": "code",
   "execution_count": 24,
   "id": "59dab95d",
   "metadata": {},
   "outputs": [],
   "source": [
    "data['times_of_day'] = le.fit_transform(data['times_of_day'])"
   ]
  },
  {
   "cell_type": "code",
   "execution_count": 25,
   "id": "b7ab75e7",
   "metadata": {},
   "outputs": [
    {
     "data": {
      "text/html": [
       "<div>\n",
       "<style scoped>\n",
       "    .dataframe tbody tr th:only-of-type {\n",
       "        vertical-align: middle;\n",
       "    }\n",
       "\n",
       "    .dataframe tbody tr th {\n",
       "        vertical-align: top;\n",
       "    }\n",
       "\n",
       "    .dataframe thead th {\n",
       "        text-align: right;\n",
       "    }\n",
       "</style>\n",
       "<table border=\"1\" class=\"dataframe\">\n",
       "  <thead>\n",
       "    <tr style=\"text-align: right;\">\n",
       "      <th></th>\n",
       "      <th>campaign_id</th>\n",
       "      <th>sender</th>\n",
       "      <th>subject_len</th>\n",
       "      <th>body_len</th>\n",
       "      <th>day_of_week</th>\n",
       "      <th>is_weekend</th>\n",
       "      <th>times_of_day</th>\n",
       "      <th>category</th>\n",
       "      <th>product</th>\n",
       "      <th>no_of_CTA</th>\n",
       "      <th>mean_CTA_len</th>\n",
       "      <th>is_image</th>\n",
       "      <th>is_personalised</th>\n",
       "      <th>is_quote</th>\n",
       "      <th>is_emoticons</th>\n",
       "      <th>is_discount</th>\n",
       "      <th>is_price</th>\n",
       "      <th>is_urgency</th>\n",
       "      <th>target_audience</th>\n",
       "      <th>click_rate</th>\n",
       "    </tr>\n",
       "  </thead>\n",
       "  <tbody>\n",
       "    <tr>\n",
       "      <th>0</th>\n",
       "      <td>1</td>\n",
       "      <td>3</td>\n",
       "      <td>76</td>\n",
       "      <td>10439</td>\n",
       "      <td>5</td>\n",
       "      <td>1</td>\n",
       "      <td>2</td>\n",
       "      <td>6</td>\n",
       "      <td>26</td>\n",
       "      <td>3</td>\n",
       "      <td>29</td>\n",
       "      <td>0</td>\n",
       "      <td>0</td>\n",
       "      <td>0</td>\n",
       "      <td>0</td>\n",
       "      <td>0</td>\n",
       "      <td>0</td>\n",
       "      <td>0</td>\n",
       "      <td>14</td>\n",
       "      <td>0.103079</td>\n",
       "    </tr>\n",
       "    <tr>\n",
       "      <th>1</th>\n",
       "      <td>2</td>\n",
       "      <td>3</td>\n",
       "      <td>54</td>\n",
       "      <td>2570</td>\n",
       "      <td>5</td>\n",
       "      <td>1</td>\n",
       "      <td>1</td>\n",
       "      <td>2</td>\n",
       "      <td>11</td>\n",
       "      <td>0</td>\n",
       "      <td>22</td>\n",
       "      <td>0</td>\n",
       "      <td>0</td>\n",
       "      <td>0</td>\n",
       "      <td>0</td>\n",
       "      <td>0</td>\n",
       "      <td>0</td>\n",
       "      <td>0</td>\n",
       "      <td>10</td>\n",
       "      <td>0.700000</td>\n",
       "    </tr>\n",
       "    <tr>\n",
       "      <th>2</th>\n",
       "      <td>3</td>\n",
       "      <td>3</td>\n",
       "      <td>59</td>\n",
       "      <td>12801</td>\n",
       "      <td>5</td>\n",
       "      <td>1</td>\n",
       "      <td>2</td>\n",
       "      <td>2</td>\n",
       "      <td>11</td>\n",
       "      <td>3</td>\n",
       "      <td>23</td>\n",
       "      <td>1</td>\n",
       "      <td>0</td>\n",
       "      <td>1</td>\n",
       "      <td>0</td>\n",
       "      <td>0</td>\n",
       "      <td>0</td>\n",
       "      <td>0</td>\n",
       "      <td>16</td>\n",
       "      <td>0.002769</td>\n",
       "    </tr>\n",
       "    <tr>\n",
       "      <th>3</th>\n",
       "      <td>4</td>\n",
       "      <td>3</td>\n",
       "      <td>74</td>\n",
       "      <td>11037</td>\n",
       "      <td>4</td>\n",
       "      <td>0</td>\n",
       "      <td>0</td>\n",
       "      <td>15</td>\n",
       "      <td>9</td>\n",
       "      <td>4</td>\n",
       "      <td>24</td>\n",
       "      <td>0</td>\n",
       "      <td>0</td>\n",
       "      <td>0</td>\n",
       "      <td>0</td>\n",
       "      <td>0</td>\n",
       "      <td>0</td>\n",
       "      <td>0</td>\n",
       "      <td>10</td>\n",
       "      <td>0.010868</td>\n",
       "    </tr>\n",
       "    <tr>\n",
       "      <th>4</th>\n",
       "      <td>5</td>\n",
       "      <td>3</td>\n",
       "      <td>80</td>\n",
       "      <td>10011</td>\n",
       "      <td>5</td>\n",
       "      <td>1</td>\n",
       "      <td>2</td>\n",
       "      <td>6</td>\n",
       "      <td>26</td>\n",
       "      <td>3</td>\n",
       "      <td>31</td>\n",
       "      <td>0</td>\n",
       "      <td>0</td>\n",
       "      <td>1</td>\n",
       "      <td>0</td>\n",
       "      <td>0</td>\n",
       "      <td>0</td>\n",
       "      <td>0</td>\n",
       "      <td>14</td>\n",
       "      <td>0.142826</td>\n",
       "    </tr>\n",
       "  </tbody>\n",
       "</table>\n",
       "</div>"
      ],
      "text/plain": [
       "   campaign_id  sender  subject_len  body_len  day_of_week  is_weekend  \\\n",
       "0            1       3           76     10439            5           1   \n",
       "1            2       3           54      2570            5           1   \n",
       "2            3       3           59     12801            5           1   \n",
       "3            4       3           74     11037            4           0   \n",
       "4            5       3           80     10011            5           1   \n",
       "\n",
       "   times_of_day  category  product  no_of_CTA  mean_CTA_len  is_image  \\\n",
       "0             2         6       26          3            29         0   \n",
       "1             1         2       11          0            22         0   \n",
       "2             2         2       11          3            23         1   \n",
       "3             0        15        9          4            24         0   \n",
       "4             2         6       26          3            31         0   \n",
       "\n",
       "   is_personalised  is_quote  is_emoticons  is_discount  is_price  is_urgency  \\\n",
       "0                0         0             0            0         0           0   \n",
       "1                0         0             0            0         0           0   \n",
       "2                0         1             0            0         0           0   \n",
       "3                0         0             0            0         0           0   \n",
       "4                0         1             0            0         0           0   \n",
       "\n",
       "   target_audience  click_rate  \n",
       "0               14    0.103079  \n",
       "1               10    0.700000  \n",
       "2               16    0.002769  \n",
       "3               10    0.010868  \n",
       "4               14    0.142826  "
      ]
     },
     "execution_count": 25,
     "metadata": {},
     "output_type": "execute_result"
    }
   ],
   "source": [
    "data.head()"
   ]
  },
  {
   "cell_type": "code",
   "execution_count": 26,
   "id": "65705645",
   "metadata": {},
   "outputs": [
    {
     "data": {
      "text/plain": [
       "array(['Evening', 'Morning', 'Noon'], dtype=object)"
      ]
     },
     "execution_count": 26,
     "metadata": {},
     "output_type": "execute_result"
    }
   ],
   "source": [
    "le.classes_"
   ]
  },
  {
   "cell_type": "code",
   "execution_count": 27,
   "id": "6ae096a4",
   "metadata": {},
   "outputs": [],
   "source": [
    "data.drop(['campaign_id'], axis=1, inplace=True)"
   ]
  },
  {
   "cell_type": "code",
   "execution_count": 28,
   "id": "2e9001bb",
   "metadata": {},
   "outputs": [
    {
     "data": {
      "text/html": [
       "<div>\n",
       "<style scoped>\n",
       "    .dataframe tbody tr th:only-of-type {\n",
       "        vertical-align: middle;\n",
       "    }\n",
       "\n",
       "    .dataframe tbody tr th {\n",
       "        vertical-align: top;\n",
       "    }\n",
       "\n",
       "    .dataframe thead th {\n",
       "        text-align: right;\n",
       "    }\n",
       "</style>\n",
       "<table border=\"1\" class=\"dataframe\">\n",
       "  <thead>\n",
       "    <tr style=\"text-align: right;\">\n",
       "      <th></th>\n",
       "      <th>sender</th>\n",
       "      <th>subject_len</th>\n",
       "      <th>body_len</th>\n",
       "      <th>day_of_week</th>\n",
       "      <th>is_weekend</th>\n",
       "      <th>times_of_day</th>\n",
       "      <th>category</th>\n",
       "      <th>product</th>\n",
       "      <th>no_of_CTA</th>\n",
       "      <th>mean_CTA_len</th>\n",
       "      <th>is_image</th>\n",
       "      <th>is_personalised</th>\n",
       "      <th>is_quote</th>\n",
       "      <th>is_emoticons</th>\n",
       "      <th>is_discount</th>\n",
       "      <th>is_price</th>\n",
       "      <th>is_urgency</th>\n",
       "      <th>target_audience</th>\n",
       "      <th>click_rate</th>\n",
       "    </tr>\n",
       "  </thead>\n",
       "  <tbody>\n",
       "    <tr>\n",
       "      <th>0</th>\n",
       "      <td>3</td>\n",
       "      <td>76</td>\n",
       "      <td>10439</td>\n",
       "      <td>5</td>\n",
       "      <td>1</td>\n",
       "      <td>2</td>\n",
       "      <td>6</td>\n",
       "      <td>26</td>\n",
       "      <td>3</td>\n",
       "      <td>29</td>\n",
       "      <td>0</td>\n",
       "      <td>0</td>\n",
       "      <td>0</td>\n",
       "      <td>0</td>\n",
       "      <td>0</td>\n",
       "      <td>0</td>\n",
       "      <td>0</td>\n",
       "      <td>14</td>\n",
       "      <td>0.103079</td>\n",
       "    </tr>\n",
       "    <tr>\n",
       "      <th>1</th>\n",
       "      <td>3</td>\n",
       "      <td>54</td>\n",
       "      <td>2570</td>\n",
       "      <td>5</td>\n",
       "      <td>1</td>\n",
       "      <td>1</td>\n",
       "      <td>2</td>\n",
       "      <td>11</td>\n",
       "      <td>0</td>\n",
       "      <td>22</td>\n",
       "      <td>0</td>\n",
       "      <td>0</td>\n",
       "      <td>0</td>\n",
       "      <td>0</td>\n",
       "      <td>0</td>\n",
       "      <td>0</td>\n",
       "      <td>0</td>\n",
       "      <td>10</td>\n",
       "      <td>0.700000</td>\n",
       "    </tr>\n",
       "    <tr>\n",
       "      <th>2</th>\n",
       "      <td>3</td>\n",
       "      <td>59</td>\n",
       "      <td>12801</td>\n",
       "      <td>5</td>\n",
       "      <td>1</td>\n",
       "      <td>2</td>\n",
       "      <td>2</td>\n",
       "      <td>11</td>\n",
       "      <td>3</td>\n",
       "      <td>23</td>\n",
       "      <td>1</td>\n",
       "      <td>0</td>\n",
       "      <td>1</td>\n",
       "      <td>0</td>\n",
       "      <td>0</td>\n",
       "      <td>0</td>\n",
       "      <td>0</td>\n",
       "      <td>16</td>\n",
       "      <td>0.002769</td>\n",
       "    </tr>\n",
       "    <tr>\n",
       "      <th>3</th>\n",
       "      <td>3</td>\n",
       "      <td>74</td>\n",
       "      <td>11037</td>\n",
       "      <td>4</td>\n",
       "      <td>0</td>\n",
       "      <td>0</td>\n",
       "      <td>15</td>\n",
       "      <td>9</td>\n",
       "      <td>4</td>\n",
       "      <td>24</td>\n",
       "      <td>0</td>\n",
       "      <td>0</td>\n",
       "      <td>0</td>\n",
       "      <td>0</td>\n",
       "      <td>0</td>\n",
       "      <td>0</td>\n",
       "      <td>0</td>\n",
       "      <td>10</td>\n",
       "      <td>0.010868</td>\n",
       "    </tr>\n",
       "    <tr>\n",
       "      <th>4</th>\n",
       "      <td>3</td>\n",
       "      <td>80</td>\n",
       "      <td>10011</td>\n",
       "      <td>5</td>\n",
       "      <td>1</td>\n",
       "      <td>2</td>\n",
       "      <td>6</td>\n",
       "      <td>26</td>\n",
       "      <td>3</td>\n",
       "      <td>31</td>\n",
       "      <td>0</td>\n",
       "      <td>0</td>\n",
       "      <td>1</td>\n",
       "      <td>0</td>\n",
       "      <td>0</td>\n",
       "      <td>0</td>\n",
       "      <td>0</td>\n",
       "      <td>14</td>\n",
       "      <td>0.142826</td>\n",
       "    </tr>\n",
       "  </tbody>\n",
       "</table>\n",
       "</div>"
      ],
      "text/plain": [
       "   sender  subject_len  body_len  day_of_week  is_weekend  times_of_day  \\\n",
       "0       3           76     10439            5           1             2   \n",
       "1       3           54      2570            5           1             1   \n",
       "2       3           59     12801            5           1             2   \n",
       "3       3           74     11037            4           0             0   \n",
       "4       3           80     10011            5           1             2   \n",
       "\n",
       "   category  product  no_of_CTA  mean_CTA_len  is_image  is_personalised  \\\n",
       "0         6       26          3            29         0                0   \n",
       "1         2       11          0            22         0                0   \n",
       "2         2       11          3            23         1                0   \n",
       "3        15        9          4            24         0                0   \n",
       "4         6       26          3            31         0                0   \n",
       "\n",
       "   is_quote  is_emoticons  is_discount  is_price  is_urgency  target_audience  \\\n",
       "0         0             0            0         0           0               14   \n",
       "1         0             0            0         0           0               10   \n",
       "2         1             0            0         0           0               16   \n",
       "3         0             0            0         0           0               10   \n",
       "4         1             0            0         0           0               14   \n",
       "\n",
       "   click_rate  \n",
       "0    0.103079  \n",
       "1    0.700000  \n",
       "2    0.002769  \n",
       "3    0.010868  \n",
       "4    0.142826  "
      ]
     },
     "execution_count": 28,
     "metadata": {},
     "output_type": "execute_result"
    }
   ],
   "source": [
    "data.head()"
   ]
  },
  {
   "cell_type": "code",
   "execution_count": 29,
   "id": "1cd45d5d",
   "metadata": {},
   "outputs": [
    {
     "data": {
      "text/plain": [
       "Index(['sender', 'subject_len', 'body_len', 'day_of_week', 'is_weekend',\n",
       "       'times_of_day', 'category', 'product', 'no_of_CTA', 'mean_CTA_len',\n",
       "       'is_image', 'is_personalised', 'is_quote', 'is_emoticons',\n",
       "       'is_discount', 'is_price', 'is_urgency', 'target_audience',\n",
       "       'click_rate'],\n",
       "      dtype='object')"
      ]
     },
     "execution_count": 29,
     "metadata": {},
     "output_type": "execute_result"
    }
   ],
   "source": [
    "data.columns"
   ]
  },
  {
   "cell_type": "code",
   "execution_count": 30,
   "id": "588b57fb",
   "metadata": {},
   "outputs": [
    {
     "data": {
      "text/plain": [
       "array([ 3, 10,  0,  2, 14, 12, 15,  7, 11,  9,  1,  6, 13,  5,  4,  8],\n",
       "      dtype=int64)"
      ]
     },
     "execution_count": 30,
     "metadata": {},
     "output_type": "execute_result"
    }
   ],
   "source": [
    "data['sender'].unique()"
   ]
  },
  {
   "cell_type": "code",
   "execution_count": 31,
   "id": "e3975c37",
   "metadata": {},
   "outputs": [
    {
     "data": {
      "text/plain": [
       "array([5, 4, 3, 2, 1, 0, 6], dtype=int64)"
      ]
     },
     "execution_count": 31,
     "metadata": {},
     "output_type": "execute_result"
    }
   ],
   "source": [
    "data['day_of_week'].unique()"
   ]
  },
  {
   "cell_type": "code",
   "execution_count": 32,
   "id": "7d65a669",
   "metadata": {},
   "outputs": [
    {
     "data": {
      "text/plain": [
       "array([1, 0], dtype=int64)"
      ]
     },
     "execution_count": 32,
     "metadata": {},
     "output_type": "execute_result"
    }
   ],
   "source": [
    "data['is_weekend'].unique()"
   ]
  },
  {
   "cell_type": "code",
   "execution_count": 33,
   "id": "a9b23dc2",
   "metadata": {},
   "outputs": [
    {
     "data": {
      "text/plain": [
       "array([2, 1, 0])"
      ]
     },
     "execution_count": 33,
     "metadata": {},
     "output_type": "execute_result"
    }
   ],
   "source": [
    "data['times_of_day'].unique()"
   ]
  },
  {
   "cell_type": "code",
   "execution_count": 34,
   "id": "694dcde3",
   "metadata": {},
   "outputs": [
    {
     "data": {
      "text/plain": [
       "array([ 6,  2, 15,  1,  7, 10,  9, 12,  4,  3,  0, 13, 11, 14,  8,  5],\n",
       "      dtype=int64)"
      ]
     },
     "execution_count": 34,
     "metadata": {},
     "output_type": "execute_result"
    }
   ],
   "source": [
    "data['category'].unique()"
   ]
  },
  {
   "cell_type": "code",
   "execution_count": 35,
   "id": "67c056a8",
   "metadata": {},
   "outputs": [
    {
     "data": {
      "text/plain": [
       "array([26, 11,  9, 10,  5, 13, 12,  6,  1, 31, 27, 42, 34, 23, 19, 16, 22,\n",
       "       28,  3,  7, 18, 20, 43,  0, 21, 39,  4,  2,  8, 41, 24, 36, 25, 35,\n",
       "       40, 38, 14, 33, 37, 32, 17, 15, 29, 30, 44], dtype=int64)"
      ]
     },
     "execution_count": 35,
     "metadata": {},
     "output_type": "execute_result"
    }
   ],
   "source": [
    "data['product'].unique()"
   ]
  },
  {
   "cell_type": "code",
   "execution_count": 36,
   "id": "e1907d3d",
   "metadata": {},
   "outputs": [
    {
     "data": {
      "text/plain": [
       "array([ 3,  0,  4,  2,  9,  8,  6,  5, 11,  1, 12,  7, 10, 15, 16, 13, 17,\n",
       "       23, 14, 41, 44, 30, 27, 25, 33, 24, 20, 19, 18, 26, 32, 39, 37, 38,\n",
       "       40, 31, 28, 34, 49, 36, 22, 42, 21], dtype=int64)"
      ]
     },
     "execution_count": 36,
     "metadata": {},
     "output_type": "execute_result"
    }
   ],
   "source": [
    "data['no_of_CTA'].unique()"
   ]
  },
  {
   "cell_type": "code",
   "execution_count": 37,
   "id": "10e71009",
   "metadata": {},
   "outputs": [
    {
     "data": {
      "text/plain": [
       "array([0, 1, 2, 6, 3, 4], dtype=int64)"
      ]
     },
     "execution_count": 37,
     "metadata": {},
     "output_type": "execute_result"
    }
   ],
   "source": [
    "data['is_image'].unique()"
   ]
  },
  {
   "cell_type": "code",
   "execution_count": 38,
   "id": "2ab3ee90",
   "metadata": {},
   "outputs": [
    {
     "data": {
      "text/plain": [
       "array([0, 1], dtype=int64)"
      ]
     },
     "execution_count": 38,
     "metadata": {},
     "output_type": "execute_result"
    }
   ],
   "source": [
    "data['is_personalised'].unique()"
   ]
  },
  {
   "cell_type": "code",
   "execution_count": 39,
   "id": "e8505df6",
   "metadata": {},
   "outputs": [
    {
     "data": {
      "text/plain": [
       "array([0, 1, 2, 3, 4, 6, 5], dtype=int64)"
      ]
     },
     "execution_count": 39,
     "metadata": {},
     "output_type": "execute_result"
    }
   ],
   "source": [
    "data['is_quote'].unique()"
   ]
  },
  {
   "cell_type": "code",
   "execution_count": 40,
   "id": "05a8976c",
   "metadata": {},
   "outputs": [
    {
     "data": {
      "text/plain": [
       "array([ 0,  2,  1,  3,  4,  6, 17], dtype=int64)"
      ]
     },
     "execution_count": 40,
     "metadata": {},
     "output_type": "execute_result"
    }
   ],
   "source": [
    "data['is_emoticons'].unique()"
   ]
  },
  {
   "cell_type": "code",
   "execution_count": 41,
   "id": "e8c1a7a0",
   "metadata": {},
   "outputs": [
    {
     "data": {
      "text/plain": [
       "array([0, 1], dtype=int64)"
      ]
     },
     "execution_count": 41,
     "metadata": {},
     "output_type": "execute_result"
    }
   ],
   "source": [
    "data['is_discount'].unique()"
   ]
  },
  {
   "cell_type": "code",
   "execution_count": 42,
   "id": "f303a8cc",
   "metadata": {},
   "outputs": [
    {
     "data": {
      "text/plain": [
       "array([    0,  5499,  8000,  4999,  1399,  5000,  1000, 14999,   999],\n",
       "      dtype=int64)"
      ]
     },
     "execution_count": 42,
     "metadata": {},
     "output_type": "execute_result"
    }
   ],
   "source": [
    "data['is_price'].unique()"
   ]
  },
  {
   "cell_type": "code",
   "execution_count": 43,
   "id": "4073f911",
   "metadata": {},
   "outputs": [
    {
     "data": {
      "text/plain": [
       "array([0, 1], dtype=int64)"
      ]
     },
     "execution_count": 43,
     "metadata": {},
     "output_type": "execute_result"
    }
   ],
   "source": [
    "data['is_urgency'].unique()"
   ]
  },
  {
   "cell_type": "code",
   "execution_count": 44,
   "id": "bb7747ea",
   "metadata": {},
   "outputs": [
    {
     "data": {
      "text/plain": [
       "array([14, 10, 16, 13,  6, 15, 12,  0,  4, 11,  1,  5,  7,  2,  3,  8,  9],\n",
       "      dtype=int64)"
      ]
     },
     "execution_count": 44,
     "metadata": {},
     "output_type": "execute_result"
    }
   ],
   "source": [
    "data['target_audience'].unique()"
   ]
  },
  {
   "cell_type": "code",
   "execution_count": 45,
   "id": "46331e80",
   "metadata": {},
   "outputs": [],
   "source": [
    "columns = ['sender','day_of_week','is_weekend','times_of_day','category','product','no_of_CTA','is_image','is_personalised',\n",
    "           'is_quote','is_emoticons','is_discount','is_price','is_urgency','target_audience']\n",
    "\n",
    "\n",
    "data = pd.get_dummies(data= data, columns= columns, drop_first= True)"
   ]
  },
  {
   "cell_type": "code",
   "execution_count": 46,
   "id": "d53c3869",
   "metadata": {},
   "outputs": [
    {
     "data": {
      "text/plain": [
       "(2650, 173)"
      ]
     },
     "execution_count": 46,
     "metadata": {},
     "output_type": "execute_result"
    }
   ],
   "source": [
    "data.shape"
   ]
  },
  {
   "cell_type": "code",
   "execution_count": 47,
   "id": "270a0831",
   "metadata": {},
   "outputs": [
    {
     "data": {
      "text/html": [
       "<div>\n",
       "<style scoped>\n",
       "    .dataframe tbody tr th:only-of-type {\n",
       "        vertical-align: middle;\n",
       "    }\n",
       "\n",
       "    .dataframe tbody tr th {\n",
       "        vertical-align: top;\n",
       "    }\n",
       "\n",
       "    .dataframe thead th {\n",
       "        text-align: right;\n",
       "    }\n",
       "</style>\n",
       "<table border=\"1\" class=\"dataframe\">\n",
       "  <thead>\n",
       "    <tr style=\"text-align: right;\">\n",
       "      <th></th>\n",
       "      <th>subject_len</th>\n",
       "      <th>body_len</th>\n",
       "      <th>mean_CTA_len</th>\n",
       "      <th>click_rate</th>\n",
       "      <th>sender_1</th>\n",
       "      <th>sender_2</th>\n",
       "      <th>sender_3</th>\n",
       "      <th>sender_4</th>\n",
       "      <th>sender_5</th>\n",
       "      <th>sender_6</th>\n",
       "      <th>...</th>\n",
       "      <th>target_audience_7</th>\n",
       "      <th>target_audience_8</th>\n",
       "      <th>target_audience_9</th>\n",
       "      <th>target_audience_10</th>\n",
       "      <th>target_audience_11</th>\n",
       "      <th>target_audience_12</th>\n",
       "      <th>target_audience_13</th>\n",
       "      <th>target_audience_14</th>\n",
       "      <th>target_audience_15</th>\n",
       "      <th>target_audience_16</th>\n",
       "    </tr>\n",
       "  </thead>\n",
       "  <tbody>\n",
       "    <tr>\n",
       "      <th>0</th>\n",
       "      <td>76</td>\n",
       "      <td>10439</td>\n",
       "      <td>29</td>\n",
       "      <td>0.103079</td>\n",
       "      <td>0</td>\n",
       "      <td>0</td>\n",
       "      <td>1</td>\n",
       "      <td>0</td>\n",
       "      <td>0</td>\n",
       "      <td>0</td>\n",
       "      <td>...</td>\n",
       "      <td>0</td>\n",
       "      <td>0</td>\n",
       "      <td>0</td>\n",
       "      <td>0</td>\n",
       "      <td>0</td>\n",
       "      <td>0</td>\n",
       "      <td>0</td>\n",
       "      <td>1</td>\n",
       "      <td>0</td>\n",
       "      <td>0</td>\n",
       "    </tr>\n",
       "    <tr>\n",
       "      <th>1</th>\n",
       "      <td>54</td>\n",
       "      <td>2570</td>\n",
       "      <td>22</td>\n",
       "      <td>0.700000</td>\n",
       "      <td>0</td>\n",
       "      <td>0</td>\n",
       "      <td>1</td>\n",
       "      <td>0</td>\n",
       "      <td>0</td>\n",
       "      <td>0</td>\n",
       "      <td>...</td>\n",
       "      <td>0</td>\n",
       "      <td>0</td>\n",
       "      <td>0</td>\n",
       "      <td>1</td>\n",
       "      <td>0</td>\n",
       "      <td>0</td>\n",
       "      <td>0</td>\n",
       "      <td>0</td>\n",
       "      <td>0</td>\n",
       "      <td>0</td>\n",
       "    </tr>\n",
       "    <tr>\n",
       "      <th>2</th>\n",
       "      <td>59</td>\n",
       "      <td>12801</td>\n",
       "      <td>23</td>\n",
       "      <td>0.002769</td>\n",
       "      <td>0</td>\n",
       "      <td>0</td>\n",
       "      <td>1</td>\n",
       "      <td>0</td>\n",
       "      <td>0</td>\n",
       "      <td>0</td>\n",
       "      <td>...</td>\n",
       "      <td>0</td>\n",
       "      <td>0</td>\n",
       "      <td>0</td>\n",
       "      <td>0</td>\n",
       "      <td>0</td>\n",
       "      <td>0</td>\n",
       "      <td>0</td>\n",
       "      <td>0</td>\n",
       "      <td>0</td>\n",
       "      <td>1</td>\n",
       "    </tr>\n",
       "    <tr>\n",
       "      <th>3</th>\n",
       "      <td>74</td>\n",
       "      <td>11037</td>\n",
       "      <td>24</td>\n",
       "      <td>0.010868</td>\n",
       "      <td>0</td>\n",
       "      <td>0</td>\n",
       "      <td>1</td>\n",
       "      <td>0</td>\n",
       "      <td>0</td>\n",
       "      <td>0</td>\n",
       "      <td>...</td>\n",
       "      <td>0</td>\n",
       "      <td>0</td>\n",
       "      <td>0</td>\n",
       "      <td>1</td>\n",
       "      <td>0</td>\n",
       "      <td>0</td>\n",
       "      <td>0</td>\n",
       "      <td>0</td>\n",
       "      <td>0</td>\n",
       "      <td>0</td>\n",
       "    </tr>\n",
       "    <tr>\n",
       "      <th>4</th>\n",
       "      <td>80</td>\n",
       "      <td>10011</td>\n",
       "      <td>31</td>\n",
       "      <td>0.142826</td>\n",
       "      <td>0</td>\n",
       "      <td>0</td>\n",
       "      <td>1</td>\n",
       "      <td>0</td>\n",
       "      <td>0</td>\n",
       "      <td>0</td>\n",
       "      <td>...</td>\n",
       "      <td>0</td>\n",
       "      <td>0</td>\n",
       "      <td>0</td>\n",
       "      <td>0</td>\n",
       "      <td>0</td>\n",
       "      <td>0</td>\n",
       "      <td>0</td>\n",
       "      <td>1</td>\n",
       "      <td>0</td>\n",
       "      <td>0</td>\n",
       "    </tr>\n",
       "  </tbody>\n",
       "</table>\n",
       "<p>5 rows × 173 columns</p>\n",
       "</div>"
      ],
      "text/plain": [
       "   subject_len  body_len  mean_CTA_len  click_rate  sender_1  sender_2  \\\n",
       "0           76     10439            29    0.103079         0         0   \n",
       "1           54      2570            22    0.700000         0         0   \n",
       "2           59     12801            23    0.002769         0         0   \n",
       "3           74     11037            24    0.010868         0         0   \n",
       "4           80     10011            31    0.142826         0         0   \n",
       "\n",
       "   sender_3  sender_4  sender_5  sender_6  ...  target_audience_7  \\\n",
       "0         1         0         0         0  ...                  0   \n",
       "1         1         0         0         0  ...                  0   \n",
       "2         1         0         0         0  ...                  0   \n",
       "3         1         0         0         0  ...                  0   \n",
       "4         1         0         0         0  ...                  0   \n",
       "\n",
       "   target_audience_8  target_audience_9  target_audience_10  \\\n",
       "0                  0                  0                   0   \n",
       "1                  0                  0                   1   \n",
       "2                  0                  0                   0   \n",
       "3                  0                  0                   1   \n",
       "4                  0                  0                   0   \n",
       "\n",
       "   target_audience_11  target_audience_12  target_audience_13  \\\n",
       "0                   0                   0                   0   \n",
       "1                   0                   0                   0   \n",
       "2                   0                   0                   0   \n",
       "3                   0                   0                   0   \n",
       "4                   0                   0                   0   \n",
       "\n",
       "   target_audience_14  target_audience_15  target_audience_16  \n",
       "0                   1                   0                   0  \n",
       "1                   0                   0                   0  \n",
       "2                   0                   0                   1  \n",
       "3                   0                   0                   0  \n",
       "4                   1                   0                   0  \n",
       "\n",
       "[5 rows x 173 columns]"
      ]
     },
     "execution_count": 47,
     "metadata": {},
     "output_type": "execute_result"
    }
   ],
   "source": [
    "data.head()"
   ]
  },
  {
   "cell_type": "code",
   "execution_count": 48,
   "id": "33de3294",
   "metadata": {},
   "outputs": [],
   "source": [
    "train_df = data[ : 1888 :]\n",
    "test_df = data[1888 : :]"
   ]
  },
  {
   "cell_type": "code",
   "execution_count": 49,
   "id": "1295d0f7",
   "metadata": {},
   "outputs": [
    {
     "data": {
      "text/html": [
       "<div>\n",
       "<style scoped>\n",
       "    .dataframe tbody tr th:only-of-type {\n",
       "        vertical-align: middle;\n",
       "    }\n",
       "\n",
       "    .dataframe tbody tr th {\n",
       "        vertical-align: top;\n",
       "    }\n",
       "\n",
       "    .dataframe thead th {\n",
       "        text-align: right;\n",
       "    }\n",
       "</style>\n",
       "<table border=\"1\" class=\"dataframe\">\n",
       "  <thead>\n",
       "    <tr style=\"text-align: right;\">\n",
       "      <th></th>\n",
       "      <th>subject_len</th>\n",
       "      <th>body_len</th>\n",
       "      <th>mean_CTA_len</th>\n",
       "      <th>click_rate</th>\n",
       "      <th>sender_1</th>\n",
       "      <th>sender_2</th>\n",
       "      <th>sender_3</th>\n",
       "      <th>sender_4</th>\n",
       "      <th>sender_5</th>\n",
       "      <th>sender_6</th>\n",
       "      <th>...</th>\n",
       "      <th>target_audience_7</th>\n",
       "      <th>target_audience_8</th>\n",
       "      <th>target_audience_9</th>\n",
       "      <th>target_audience_10</th>\n",
       "      <th>target_audience_11</th>\n",
       "      <th>target_audience_12</th>\n",
       "      <th>target_audience_13</th>\n",
       "      <th>target_audience_14</th>\n",
       "      <th>target_audience_15</th>\n",
       "      <th>target_audience_16</th>\n",
       "    </tr>\n",
       "  </thead>\n",
       "  <tbody>\n",
       "    <tr>\n",
       "      <th>0</th>\n",
       "      <td>76</td>\n",
       "      <td>10439</td>\n",
       "      <td>29</td>\n",
       "      <td>0.103079</td>\n",
       "      <td>0</td>\n",
       "      <td>0</td>\n",
       "      <td>1</td>\n",
       "      <td>0</td>\n",
       "      <td>0</td>\n",
       "      <td>0</td>\n",
       "      <td>...</td>\n",
       "      <td>0</td>\n",
       "      <td>0</td>\n",
       "      <td>0</td>\n",
       "      <td>0</td>\n",
       "      <td>0</td>\n",
       "      <td>0</td>\n",
       "      <td>0</td>\n",
       "      <td>1</td>\n",
       "      <td>0</td>\n",
       "      <td>0</td>\n",
       "    </tr>\n",
       "    <tr>\n",
       "      <th>1</th>\n",
       "      <td>54</td>\n",
       "      <td>2570</td>\n",
       "      <td>22</td>\n",
       "      <td>0.700000</td>\n",
       "      <td>0</td>\n",
       "      <td>0</td>\n",
       "      <td>1</td>\n",
       "      <td>0</td>\n",
       "      <td>0</td>\n",
       "      <td>0</td>\n",
       "      <td>...</td>\n",
       "      <td>0</td>\n",
       "      <td>0</td>\n",
       "      <td>0</td>\n",
       "      <td>1</td>\n",
       "      <td>0</td>\n",
       "      <td>0</td>\n",
       "      <td>0</td>\n",
       "      <td>0</td>\n",
       "      <td>0</td>\n",
       "      <td>0</td>\n",
       "    </tr>\n",
       "    <tr>\n",
       "      <th>2</th>\n",
       "      <td>59</td>\n",
       "      <td>12801</td>\n",
       "      <td>23</td>\n",
       "      <td>0.002769</td>\n",
       "      <td>0</td>\n",
       "      <td>0</td>\n",
       "      <td>1</td>\n",
       "      <td>0</td>\n",
       "      <td>0</td>\n",
       "      <td>0</td>\n",
       "      <td>...</td>\n",
       "      <td>0</td>\n",
       "      <td>0</td>\n",
       "      <td>0</td>\n",
       "      <td>0</td>\n",
       "      <td>0</td>\n",
       "      <td>0</td>\n",
       "      <td>0</td>\n",
       "      <td>0</td>\n",
       "      <td>0</td>\n",
       "      <td>1</td>\n",
       "    </tr>\n",
       "    <tr>\n",
       "      <th>3</th>\n",
       "      <td>74</td>\n",
       "      <td>11037</td>\n",
       "      <td>24</td>\n",
       "      <td>0.010868</td>\n",
       "      <td>0</td>\n",
       "      <td>0</td>\n",
       "      <td>1</td>\n",
       "      <td>0</td>\n",
       "      <td>0</td>\n",
       "      <td>0</td>\n",
       "      <td>...</td>\n",
       "      <td>0</td>\n",
       "      <td>0</td>\n",
       "      <td>0</td>\n",
       "      <td>1</td>\n",
       "      <td>0</td>\n",
       "      <td>0</td>\n",
       "      <td>0</td>\n",
       "      <td>0</td>\n",
       "      <td>0</td>\n",
       "      <td>0</td>\n",
       "    </tr>\n",
       "    <tr>\n",
       "      <th>4</th>\n",
       "      <td>80</td>\n",
       "      <td>10011</td>\n",
       "      <td>31</td>\n",
       "      <td>0.142826</td>\n",
       "      <td>0</td>\n",
       "      <td>0</td>\n",
       "      <td>1</td>\n",
       "      <td>0</td>\n",
       "      <td>0</td>\n",
       "      <td>0</td>\n",
       "      <td>...</td>\n",
       "      <td>0</td>\n",
       "      <td>0</td>\n",
       "      <td>0</td>\n",
       "      <td>0</td>\n",
       "      <td>0</td>\n",
       "      <td>0</td>\n",
       "      <td>0</td>\n",
       "      <td>1</td>\n",
       "      <td>0</td>\n",
       "      <td>0</td>\n",
       "    </tr>\n",
       "  </tbody>\n",
       "</table>\n",
       "<p>5 rows × 173 columns</p>\n",
       "</div>"
      ],
      "text/plain": [
       "   subject_len  body_len  mean_CTA_len  click_rate  sender_1  sender_2  \\\n",
       "0           76     10439            29    0.103079         0         0   \n",
       "1           54      2570            22    0.700000         0         0   \n",
       "2           59     12801            23    0.002769         0         0   \n",
       "3           74     11037            24    0.010868         0         0   \n",
       "4           80     10011            31    0.142826         0         0   \n",
       "\n",
       "   sender_3  sender_4  sender_5  sender_6  ...  target_audience_7  \\\n",
       "0         1         0         0         0  ...                  0   \n",
       "1         1         0         0         0  ...                  0   \n",
       "2         1         0         0         0  ...                  0   \n",
       "3         1         0         0         0  ...                  0   \n",
       "4         1         0         0         0  ...                  0   \n",
       "\n",
       "   target_audience_8  target_audience_9  target_audience_10  \\\n",
       "0                  0                  0                   0   \n",
       "1                  0                  0                   1   \n",
       "2                  0                  0                   0   \n",
       "3                  0                  0                   1   \n",
       "4                  0                  0                   0   \n",
       "\n",
       "   target_audience_11  target_audience_12  target_audience_13  \\\n",
       "0                   0                   0                   0   \n",
       "1                   0                   0                   0   \n",
       "2                   0                   0                   0   \n",
       "3                   0                   0                   0   \n",
       "4                   0                   0                   0   \n",
       "\n",
       "   target_audience_14  target_audience_15  target_audience_16  \n",
       "0                   1                   0                   0  \n",
       "1                   0                   0                   0  \n",
       "2                   0                   0                   1  \n",
       "3                   0                   0                   0  \n",
       "4                   1                   0                   0  \n",
       "\n",
       "[5 rows x 173 columns]"
      ]
     },
     "execution_count": 49,
     "metadata": {},
     "output_type": "execute_result"
    }
   ],
   "source": [
    "train_df.head()"
   ]
  },
  {
   "cell_type": "code",
   "execution_count": 50,
   "id": "2edf573d",
   "metadata": {},
   "outputs": [],
   "source": [
    "test_df.drop(['click_rate'], axis=1, inplace = True)"
   ]
  },
  {
   "cell_type": "code",
   "execution_count": 51,
   "id": "d8cbab89",
   "metadata": {},
   "outputs": [],
   "source": [
    "x = train_df.drop(['click_rate'], axis= 1)\n",
    "y = train_df['click_rate']"
   ]
  },
  {
   "cell_type": "code",
   "execution_count": 52,
   "id": "aca931c2",
   "metadata": {},
   "outputs": [
    {
     "data": {
      "text/plain": [
       "((1321, 172), (1321,), (567, 172), (567,))"
      ]
     },
     "execution_count": 52,
     "metadata": {},
     "output_type": "execute_result"
    }
   ],
   "source": [
    "from sklearn.model_selection import train_test_split\n",
    "\n",
    "x_train, x_test, y_train, y_test = train_test_split(x, y, train_size= 0.7, random_state= 123)\n",
    "x_train.shape, y_train.shape, x_test.shape, y_test.shape"
   ]
  },
  {
   "cell_type": "code",
   "execution_count": 53,
   "id": "69d55eda",
   "metadata": {},
   "outputs": [],
   "source": [
    "from sklearn.linear_model import LinearRegression\n",
    "from sklearn.metrics import mean_squared_error, r2_score"
   ]
  },
  {
   "cell_type": "code",
   "execution_count": 54,
   "id": "8370b754",
   "metadata": {},
   "outputs": [
    {
     "data": {
      "text/plain": [
       "LinearRegression()"
      ]
     },
     "execution_count": 54,
     "metadata": {},
     "output_type": "execute_result"
    }
   ],
   "source": [
    "lr_ = LinearRegression()\n",
    "lr_.fit(x_train, y_train)"
   ]
  },
  {
   "cell_type": "code",
   "execution_count": 55,
   "id": "0849ccdd",
   "metadata": {},
   "outputs": [
    {
     "name": "stdout",
     "output_type": "stream",
     "text": [
      "RMSE :  0.08232914671624966\n",
      "Score :  0.27248816610073967\n"
     ]
    }
   ],
   "source": [
    "lr_pred = lr_.predict(x_test)\n",
    "\n",
    "print(\"RMSE : \", np.sqrt(mean_squared_error(y_true= y_test, y_pred= lr_pred)))\n",
    "print(\"Score : \", r2_score(y_true= y_test, y_pred= lr_pred))"
   ]
  },
  {
   "cell_type": "code",
   "execution_count": 56,
   "id": "c5023eec",
   "metadata": {},
   "outputs": [],
   "source": [
    "lr_pred_ = lr_.predict(test_df)"
   ]
  },
  {
   "cell_type": "code",
   "execution_count": 57,
   "id": "2ef3a507",
   "metadata": {},
   "outputs": [],
   "source": [
    "Dataset01 = pd.DataFrame({'campaign_id' : test_val['campaign_id'],\n",
    "                          'click_rate' : lr_pred_})"
   ]
  },
  {
   "cell_type": "code",
   "execution_count": 58,
   "id": "a9ad2be7",
   "metadata": {},
   "outputs": [
    {
     "data": {
      "text/html": [
       "<div>\n",
       "<style scoped>\n",
       "    .dataframe tbody tr th:only-of-type {\n",
       "        vertical-align: middle;\n",
       "    }\n",
       "\n",
       "    .dataframe tbody tr th {\n",
       "        vertical-align: top;\n",
       "    }\n",
       "\n",
       "    .dataframe thead th {\n",
       "        text-align: right;\n",
       "    }\n",
       "</style>\n",
       "<table border=\"1\" class=\"dataframe\">\n",
       "  <thead>\n",
       "    <tr style=\"text-align: right;\">\n",
       "      <th></th>\n",
       "      <th>campaign_id</th>\n",
       "      <th>click_rate</th>\n",
       "    </tr>\n",
       "  </thead>\n",
       "  <tbody>\n",
       "    <tr>\n",
       "      <th>0</th>\n",
       "      <td>1889</td>\n",
       "      <td>0.083243</td>\n",
       "    </tr>\n",
       "    <tr>\n",
       "      <th>1</th>\n",
       "      <td>1890</td>\n",
       "      <td>0.175427</td>\n",
       "    </tr>\n",
       "    <tr>\n",
       "      <th>2</th>\n",
       "      <td>1891</td>\n",
       "      <td>0.135027</td>\n",
       "    </tr>\n",
       "    <tr>\n",
       "      <th>3</th>\n",
       "      <td>1892</td>\n",
       "      <td>0.135734</td>\n",
       "    </tr>\n",
       "    <tr>\n",
       "      <th>4</th>\n",
       "      <td>1893</td>\n",
       "      <td>0.099281</td>\n",
       "    </tr>\n",
       "  </tbody>\n",
       "</table>\n",
       "</div>"
      ],
      "text/plain": [
       "   campaign_id  click_rate\n",
       "0         1889    0.083243\n",
       "1         1890    0.175427\n",
       "2         1891    0.135027\n",
       "3         1892    0.135734\n",
       "4         1893    0.099281"
      ]
     },
     "execution_count": 58,
     "metadata": {},
     "output_type": "execute_result"
    }
   ],
   "source": [
    "Dataset01.head()"
   ]
  },
  {
   "cell_type": "code",
   "execution_count": 59,
   "id": "086d8d2d",
   "metadata": {},
   "outputs": [],
   "source": [
    "Dataset01.to_csv('sample_submission01.csv', index= False)"
   ]
  },
  {
   "cell_type": "code",
   "execution_count": 60,
   "id": "babf11a7",
   "metadata": {},
   "outputs": [],
   "source": [
    "from sklearn.ensemble import RandomForestRegressor\n",
    "rfr = RandomForestRegressor(n_estimators= 500, max_depth= 15, n_jobs= -1, random_state=123)"
   ]
  },
  {
   "cell_type": "code",
   "execution_count": 61,
   "id": "32bb57c2",
   "metadata": {},
   "outputs": [
    {
     "data": {
      "text/plain": [
       "RandomForestRegressor(max_depth=15, n_estimators=500, n_jobs=-1,\n",
       "                      random_state=123)"
      ]
     },
     "execution_count": 61,
     "metadata": {},
     "output_type": "execute_result"
    }
   ],
   "source": [
    "rfr.fit(x_train, y_train)"
   ]
  },
  {
   "cell_type": "code",
   "execution_count": 62,
   "id": "46c602a7",
   "metadata": {},
   "outputs": [
    {
     "name": "stdout",
     "output_type": "stream",
     "text": [
      "RMSE :  0.07214326291025913\n",
      "Score :  0.4413698195893232\n"
     ]
    }
   ],
   "source": [
    "rfr_pred = rfr.predict(x_test)\n",
    "\n",
    "print(\"RMSE : \", np.sqrt(mean_squared_error(y_true= y_test, y_pred= rfr_pred)))\n",
    "print(\"Score : \", r2_score(y_true= y_test, y_pred= rfr_pred))"
   ]
  },
  {
   "cell_type": "code",
   "execution_count": 63,
   "id": "68dbca60",
   "metadata": {},
   "outputs": [],
   "source": [
    "rfr_pred_ = rfr.predict(test_df)\n",
    "\n",
    "Dataset02 = pd.DataFrame({'campaign_id' : test_val['campaign_id'],\n",
    "                          'click_rate' : rfr_pred_})"
   ]
  },
  {
   "cell_type": "code",
   "execution_count": 64,
   "id": "e61f50ae",
   "metadata": {},
   "outputs": [],
   "source": [
    "Dataset02.to_csv('sample_submission02.csv', index= False)"
   ]
  },
  {
   "cell_type": "code",
   "execution_count": 65,
   "id": "bc98a7ad",
   "metadata": {},
   "outputs": [],
   "source": [
    "from xgboost import XGBRegressor\n",
    "xgb = XGBRegressor(n_estimators = 500, learning_rate = 0.01, max_depth= 15, random_state=123)"
   ]
  },
  {
   "cell_type": "code",
   "execution_count": 66,
   "id": "3483594c",
   "metadata": {},
   "outputs": [
    {
     "data": {
      "text/plain": [
       "XGBRegressor(base_score=0.5, booster='gbtree', colsample_bylevel=1,\n",
       "             colsample_bynode=1, colsample_bytree=1, enable_categorical=False,\n",
       "             gamma=0, gpu_id=-1, importance_type=None,\n",
       "             interaction_constraints='', learning_rate=0.01, max_delta_step=0,\n",
       "             max_depth=15, min_child_weight=1, missing=nan,\n",
       "             monotone_constraints='()', n_estimators=500, n_jobs=12,\n",
       "             num_parallel_tree=1, predictor='auto', random_state=123,\n",
       "             reg_alpha=0, reg_lambda=1, scale_pos_weight=1, subsample=1,\n",
       "             tree_method='exact', validate_parameters=1, verbosity=None)"
      ]
     },
     "execution_count": 66,
     "metadata": {},
     "output_type": "execute_result"
    }
   ],
   "source": [
    "xgb.fit(x_train, y_train)"
   ]
  },
  {
   "cell_type": "code",
   "execution_count": 67,
   "id": "17b22657",
   "metadata": {},
   "outputs": [
    {
     "name": "stdout",
     "output_type": "stream",
     "text": [
      "RMSE :  0.07198425958404477\n",
      "Score :  0.44382954124262797\n"
     ]
    }
   ],
   "source": [
    "xgb_pred = xgb.predict(x_test)\n",
    "\n",
    "print(\"RMSE : \", np.sqrt(mean_squared_error(y_true= y_test, y_pred= xgb_pred)))\n",
    "print(\"Score : \", r2_score(y_true= y_test, y_pred= xgb_pred))"
   ]
  },
  {
   "cell_type": "code",
   "execution_count": 68,
   "id": "1479c5f1",
   "metadata": {},
   "outputs": [],
   "source": [
    "xgb_pred_ = xgb.predict(test_df)\n",
    "\n",
    "Dataset03 = pd.DataFrame({'campaign_id' : test_val['campaign_id'],\n",
    "                          'click_rate' : xgb_pred_})"
   ]
  },
  {
   "cell_type": "code",
   "execution_count": 69,
   "id": "0476625b",
   "metadata": {},
   "outputs": [],
   "source": [
    "Dataset03.to_csv('sample_submission03.csv', index= False)"
   ]
  },
  {
   "cell_type": "code",
   "execution_count": 71,
   "id": "8a909d99",
   "metadata": {},
   "outputs": [],
   "source": [
    "import tensorflow as tf\n",
    "from tensorflow.keras.models import Sequential\n",
    "from tensorflow.keras.layers import Dense"
   ]
  },
  {
   "cell_type": "code",
   "execution_count": 72,
   "id": "608901b1",
   "metadata": {},
   "outputs": [],
   "source": [
    "model = Sequential()\n",
    "model.add(Dense(units= 1024, activation = 'relu', input_dim =172))\n",
    "model.add(Dense(units= 512, activation = 'relu'))\n",
    "model.add(Dense(units= 128, activation = 'relu'))\n",
    "model.add(Dense(units= 64, activation = 'relu'))\n",
    "model.add(Dense(units= 1, activation = 'linear'))"
   ]
  },
  {
   "cell_type": "code",
   "execution_count": 73,
   "id": "db96e6ff",
   "metadata": {},
   "outputs": [],
   "source": [
    "model.compile(optimizer='adam', loss= tf.losses.mean_squared_error, metrics=['mse'])"
   ]
  },
  {
   "cell_type": "code",
   "execution_count": 74,
   "id": "fb18ffd8",
   "metadata": {},
   "outputs": [
    {
     "name": "stdout",
     "output_type": "stream",
     "text": [
      "Model: \"sequential\"\n",
      "_________________________________________________________________\n",
      " Layer (type)                Output Shape              Param #   \n",
      "=================================================================\n",
      " dense (Dense)               (None, 1024)              177152    \n",
      "                                                                 \n",
      " dense_1 (Dense)             (None, 512)               524800    \n",
      "                                                                 \n",
      " dense_2 (Dense)             (None, 128)               65664     \n",
      "                                                                 \n",
      " dense_3 (Dense)             (None, 64)                8256      \n",
      "                                                                 \n",
      " dense_4 (Dense)             (None, 1)                 65        \n",
      "                                                                 \n",
      "=================================================================\n",
      "Total params: 775,937\n",
      "Trainable params: 775,937\n",
      "Non-trainable params: 0\n",
      "_________________________________________________________________\n"
     ]
    }
   ],
   "source": [
    "model.summary()"
   ]
  },
  {
   "cell_type": "code",
   "execution_count": 75,
   "id": "8f70bc2d",
   "metadata": {
    "scrolled": true
   },
   "outputs": [
    {
     "name": "stdout",
     "output_type": "stream",
     "text": [
      "Epoch 1/500\n",
      "Epoch 2/500\n",
      "Epoch 3/500\n",
      "Epoch 4/500\n",
      "Epoch 5/500\n",
      "Epoch 6/500\n",
      "Epoch 7/500\n",
      "Epoch 8/500\n",
      "Epoch 9/500\n",
      "Epoch 10/500\n",
      "Epoch 11/500\n",
      "Epoch 12/500\n",
      "Epoch 13/500\n",
      "Epoch 14/500\n",
      "Epoch 15/500\n",
      "Epoch 16/500\n",
      "Epoch 17/500\n",
      "Epoch 18/500\n",
      "Epoch 19/500\n",
      "Epoch 20/500\n",
      "Epoch 21/500\n",
      "Epoch 22/500\n",
      "Epoch 23/500\n",
      "Epoch 24/500\n",
      "Epoch 25/500\n",
      "Epoch 26/500\n",
      "Epoch 27/500\n",
      "Epoch 28/500\n",
      "Epoch 29/500\n",
      "Epoch 30/500\n",
      "Epoch 31/500\n",
      "Epoch 32/500\n",
      "Epoch 33/500\n",
      "Epoch 34/500\n",
      "Epoch 35/500\n",
      "Epoch 36/500\n",
      "Epoch 37/500\n",
      "Epoch 38/500\n",
      "Epoch 39/500\n",
      "Epoch 40/500\n",
      "Epoch 41/500\n",
      "Epoch 42/500\n",
      "Epoch 43/500\n",
      "Epoch 44/500\n",
      "Epoch 45/500\n",
      "Epoch 46/500\n",
      "Epoch 47/500\n",
      "Epoch 48/500\n",
      "Epoch 49/500\n",
      "Epoch 50/500\n",
      "Epoch 51/500\n",
      "Epoch 52/500\n",
      "Epoch 53/500\n",
      "Epoch 54/500\n",
      "Epoch 55/500\n",
      "Epoch 56/500\n",
      "Epoch 57/500\n",
      "Epoch 58/500\n",
      "Epoch 59/500\n",
      "Epoch 60/500\n",
      "Epoch 61/500\n",
      "Epoch 62/500\n",
      "Epoch 63/500\n",
      "Epoch 64/500\n",
      "Epoch 65/500\n",
      "Epoch 66/500\n",
      "Epoch 67/500\n",
      "Epoch 68/500\n",
      "Epoch 69/500\n",
      "Epoch 70/500\n",
      "Epoch 71/500\n",
      "Epoch 72/500\n",
      "Epoch 73/500\n",
      "Epoch 74/500\n",
      "Epoch 75/500\n",
      "Epoch 76/500\n",
      "Epoch 77/500\n",
      "Epoch 78/500\n",
      "Epoch 79/500\n",
      "Epoch 80/500\n",
      "Epoch 81/500\n",
      "Epoch 82/500\n",
      "Epoch 83/500\n",
      "Epoch 84/500\n",
      "Epoch 85/500\n",
      "Epoch 86/500\n",
      "Epoch 87/500\n",
      "Epoch 88/500\n",
      "Epoch 89/500\n",
      "Epoch 90/500\n",
      "Epoch 91/500\n",
      "Epoch 92/500\n",
      "Epoch 93/500\n",
      "Epoch 94/500\n",
      "Epoch 95/500\n",
      "Epoch 96/500\n",
      "Epoch 97/500\n",
      "Epoch 98/500\n",
      "Epoch 99/500\n",
      "Epoch 100/500\n",
      "Epoch 101/500\n",
      "Epoch 102/500\n",
      "Epoch 103/500\n",
      "Epoch 104/500\n",
      "Epoch 105/500\n",
      "Epoch 106/500\n",
      "Epoch 107/500\n",
      "Epoch 108/500\n",
      "Epoch 109/500\n",
      "Epoch 110/500\n",
      "Epoch 111/500\n",
      "Epoch 112/500\n",
      "Epoch 113/500\n",
      "Epoch 114/500\n",
      "Epoch 115/500\n",
      "Epoch 116/500\n",
      "Epoch 117/500\n",
      "Epoch 118/500\n",
      "Epoch 119/500\n",
      "Epoch 120/500\n",
      "Epoch 121/500\n",
      "Epoch 122/500\n",
      "Epoch 123/500\n",
      "Epoch 124/500\n",
      "Epoch 125/500\n",
      "Epoch 126/500\n",
      "Epoch 127/500\n",
      "Epoch 128/500\n",
      "Epoch 129/500\n",
      "Epoch 130/500\n",
      "Epoch 131/500\n",
      "Epoch 132/500\n",
      "Epoch 133/500\n",
      "Epoch 134/500\n",
      "Epoch 135/500\n",
      "Epoch 136/500\n",
      "Epoch 137/500\n",
      "Epoch 138/500\n",
      "Epoch 139/500\n",
      "Epoch 140/500\n",
      "Epoch 141/500\n",
      "Epoch 142/500\n",
      "Epoch 143/500\n",
      "Epoch 144/500\n",
      "Epoch 145/500\n",
      "Epoch 146/500\n",
      "Epoch 147/500\n",
      "Epoch 148/500\n",
      "Epoch 149/500\n",
      "Epoch 150/500\n",
      "Epoch 151/500\n",
      "Epoch 152/500\n",
      "Epoch 153/500\n",
      "Epoch 154/500\n",
      "Epoch 155/500\n",
      "Epoch 156/500\n",
      "Epoch 157/500\n",
      "Epoch 158/500\n",
      "Epoch 159/500\n",
      "Epoch 160/500\n",
      "Epoch 161/500\n",
      "Epoch 162/500\n",
      "Epoch 163/500\n",
      "Epoch 164/500\n",
      "Epoch 165/500\n",
      "Epoch 166/500\n",
      "Epoch 167/500\n",
      "Epoch 168/500\n",
      "Epoch 169/500\n",
      "Epoch 170/500\n",
      "Epoch 171/500\n",
      "Epoch 172/500\n",
      "Epoch 173/500\n",
      "Epoch 174/500\n",
      "Epoch 175/500\n",
      "Epoch 176/500\n",
      "Epoch 177/500\n",
      "Epoch 178/500\n",
      "Epoch 179/500\n",
      "Epoch 180/500\n",
      "Epoch 181/500\n",
      "Epoch 182/500\n",
      "Epoch 183/500\n",
      "Epoch 184/500\n",
      "Epoch 185/500\n",
      "Epoch 186/500\n",
      "Epoch 187/500\n",
      "Epoch 188/500\n",
      "Epoch 189/500\n",
      "Epoch 190/500\n",
      "Epoch 191/500\n",
      "Epoch 192/500\n",
      "Epoch 193/500\n",
      "Epoch 194/500\n",
      "Epoch 195/500\n",
      "Epoch 196/500\n",
      "Epoch 197/500\n",
      "Epoch 198/500\n",
      "Epoch 199/500\n",
      "Epoch 200/500\n",
      "Epoch 201/500\n",
      "Epoch 202/500\n",
      "Epoch 203/500\n",
      "Epoch 204/500\n",
      "Epoch 205/500\n",
      "Epoch 206/500\n",
      "Epoch 207/500\n",
      "Epoch 208/500\n",
      "Epoch 209/500\n",
      "Epoch 210/500\n",
      "Epoch 211/500\n",
      "Epoch 212/500\n",
      "Epoch 213/500\n",
      "Epoch 214/500\n",
      "Epoch 215/500\n",
      "Epoch 216/500\n",
      "Epoch 217/500\n",
      "Epoch 218/500\n",
      "Epoch 219/500\n",
      "Epoch 220/500\n",
      "Epoch 221/500\n",
      "Epoch 222/500\n",
      "Epoch 223/500\n",
      "Epoch 224/500\n",
      "Epoch 225/500\n",
      "Epoch 226/500\n",
      "Epoch 227/500\n",
      "Epoch 228/500\n",
      "Epoch 229/500\n",
      "Epoch 230/500\n",
      "Epoch 231/500\n",
      "Epoch 232/500\n",
      "Epoch 233/500\n",
      "Epoch 234/500\n",
      "Epoch 235/500\n",
      "Epoch 236/500\n",
      "Epoch 237/500\n",
      "Epoch 238/500\n",
      "Epoch 239/500\n",
      "Epoch 240/500\n",
      "Epoch 241/500\n",
      "Epoch 242/500\n",
      "Epoch 243/500\n",
      "Epoch 244/500\n",
      "Epoch 245/500\n",
      "Epoch 246/500\n",
      "Epoch 247/500\n",
      "Epoch 248/500\n",
      "Epoch 249/500\n",
      "Epoch 250/500\n",
      "Epoch 251/500\n",
      "Epoch 252/500\n",
      "Epoch 253/500\n",
      "Epoch 254/500\n",
      "Epoch 255/500\n",
      "Epoch 256/500\n",
      "Epoch 257/500\n",
      "Epoch 258/500\n",
      "Epoch 259/500\n",
      "Epoch 260/500\n",
      "Epoch 261/500\n",
      "Epoch 262/500\n",
      "Epoch 263/500\n",
      "Epoch 264/500\n",
      "Epoch 265/500\n",
      "Epoch 266/500\n",
      "Epoch 267/500\n",
      "Epoch 268/500\n",
      "Epoch 269/500\n",
      "Epoch 270/500\n",
      "Epoch 271/500\n",
      "Epoch 272/500\n",
      "Epoch 273/500\n",
      "Epoch 274/500\n",
      "Epoch 275/500\n",
      "Epoch 276/500\n",
      "Epoch 277/500\n",
      "Epoch 278/500\n",
      "Epoch 279/500\n",
      "Epoch 280/500\n",
      "Epoch 281/500\n",
      "Epoch 282/500\n",
      "Epoch 283/500\n",
      "Epoch 284/500\n",
      "Epoch 285/500\n",
      "Epoch 286/500\n",
      "Epoch 287/500\n",
      "Epoch 288/500\n",
      "Epoch 289/500\n",
      "Epoch 290/500\n",
      "Epoch 291/500\n",
      "Epoch 292/500\n",
      "Epoch 293/500\n",
      "Epoch 294/500\n",
      "Epoch 295/500\n",
      "Epoch 296/500\n",
      "Epoch 297/500\n",
      "Epoch 298/500\n",
      "Epoch 299/500\n",
      "Epoch 300/500\n",
      "Epoch 301/500\n",
      "Epoch 302/500\n",
      "Epoch 303/500\n",
      "Epoch 304/500\n",
      "Epoch 305/500\n",
      "Epoch 306/500\n",
      "Epoch 307/500\n",
      "Epoch 308/500\n",
      "Epoch 309/500\n",
      "Epoch 310/500\n",
      "Epoch 311/500\n",
      "Epoch 312/500\n",
      "Epoch 313/500\n",
      "Epoch 314/500\n",
      "Epoch 315/500\n",
      "Epoch 316/500\n",
      "Epoch 317/500\n",
      "Epoch 318/500\n",
      "Epoch 319/500\n",
      "Epoch 320/500\n",
      "Epoch 321/500\n",
      "Epoch 322/500\n",
      "Epoch 323/500\n",
      "Epoch 324/500\n",
      "Epoch 325/500\n",
      "Epoch 326/500\n",
      "Epoch 327/500\n",
      "Epoch 328/500\n",
      "Epoch 329/500\n",
      "Epoch 330/500\n",
      "Epoch 331/500\n",
      "Epoch 332/500\n",
      "Epoch 333/500\n",
      "Epoch 334/500\n",
      "Epoch 335/500\n",
      "Epoch 336/500\n",
      "Epoch 337/500\n",
      "Epoch 338/500\n",
      "Epoch 339/500\n",
      "Epoch 340/500\n",
      "Epoch 341/500\n",
      "Epoch 342/500\n",
      "Epoch 343/500\n",
      "Epoch 344/500\n",
      "Epoch 345/500\n",
      "Epoch 346/500\n",
      "Epoch 347/500\n",
      "Epoch 348/500\n",
      "Epoch 349/500\n",
      "Epoch 350/500\n",
      "Epoch 351/500\n",
      "Epoch 352/500\n",
      "Epoch 353/500\n",
      "Epoch 354/500\n",
      "Epoch 355/500\n",
      "Epoch 356/500\n",
      "Epoch 357/500\n",
      "Epoch 358/500\n",
      "Epoch 359/500\n",
      "Epoch 360/500\n",
      "Epoch 361/500\n",
      "Epoch 362/500\n",
      "Epoch 363/500\n",
      "Epoch 364/500\n",
      "Epoch 365/500\n",
      "Epoch 366/500\n",
      "Epoch 367/500\n",
      "Epoch 368/500\n",
      "Epoch 369/500\n",
      "Epoch 370/500\n",
      "Epoch 371/500\n",
      "Epoch 372/500\n",
      "Epoch 373/500\n",
      "Epoch 374/500\n",
      "Epoch 375/500\n",
      "Epoch 376/500\n",
      "Epoch 377/500\n",
      "Epoch 378/500\n",
      "Epoch 379/500\n",
      "Epoch 380/500\n",
      "Epoch 381/500\n",
      "Epoch 382/500\n",
      "Epoch 383/500\n",
      "Epoch 384/500\n",
      "Epoch 385/500\n",
      "Epoch 386/500\n",
      "Epoch 387/500\n",
      "Epoch 388/500\n",
      "Epoch 389/500\n",
      "Epoch 390/500\n",
      "Epoch 391/500\n",
      "Epoch 392/500\n",
      "Epoch 393/500\n",
      "Epoch 394/500\n",
      "Epoch 395/500\n",
      "Epoch 396/500\n",
      "Epoch 397/500\n",
      "Epoch 398/500\n",
      "Epoch 399/500\n",
      "Epoch 400/500\n",
      "Epoch 401/500\n",
      "Epoch 402/500\n",
      "Epoch 403/500\n",
      "Epoch 404/500\n",
      "Epoch 405/500\n",
      "Epoch 406/500\n",
      "Epoch 407/500\n",
      "Epoch 408/500\n",
      "Epoch 409/500\n",
      "Epoch 410/500\n",
      "Epoch 411/500\n",
      "Epoch 412/500\n",
      "Epoch 413/500\n",
      "Epoch 414/500\n",
      "Epoch 415/500\n",
      "Epoch 416/500\n",
      "Epoch 417/500\n",
      "Epoch 418/500\n",
      "Epoch 419/500\n",
      "Epoch 420/500\n",
      "Epoch 421/500\n",
      "Epoch 422/500\n",
      "Epoch 423/500\n",
      "Epoch 424/500\n",
      "Epoch 425/500\n",
      "Epoch 426/500\n",
      "Epoch 427/500\n",
      "Epoch 428/500\n",
      "Epoch 429/500\n",
      "Epoch 430/500\n",
      "Epoch 431/500\n",
      "Epoch 432/500\n",
      "Epoch 433/500\n",
      "Epoch 434/500\n",
      "Epoch 435/500\n",
      "Epoch 436/500\n",
      "Epoch 437/500\n",
      "Epoch 438/500\n",
      "Epoch 439/500\n",
      "Epoch 440/500\n",
      "Epoch 441/500\n",
      "Epoch 442/500\n",
      "Epoch 443/500\n",
      "Epoch 444/500\n",
      "Epoch 445/500\n",
      "Epoch 446/500\n",
      "Epoch 447/500\n",
      "Epoch 448/500\n",
      "Epoch 449/500\n",
      "Epoch 450/500\n",
      "Epoch 451/500\n",
      "Epoch 452/500\n",
      "Epoch 453/500\n",
      "Epoch 454/500\n",
      "Epoch 455/500\n",
      "Epoch 456/500\n",
      "Epoch 457/500\n",
      "Epoch 458/500\n",
      "Epoch 459/500\n",
      "Epoch 460/500\n",
      "Epoch 461/500\n",
      "Epoch 462/500\n",
      "Epoch 463/500\n",
      "Epoch 464/500\n",
      "Epoch 465/500\n",
      "Epoch 466/500\n",
      "Epoch 467/500\n",
      "Epoch 468/500\n",
      "Epoch 469/500\n",
      "Epoch 470/500\n",
      "Epoch 471/500\n",
      "Epoch 472/500\n",
      "Epoch 473/500\n",
      "Epoch 474/500\n",
      "Epoch 475/500\n",
      "Epoch 476/500\n",
      "Epoch 477/500\n",
      "Epoch 478/500\n",
      "Epoch 479/500\n",
      "Epoch 480/500\n",
      "Epoch 481/500\n",
      "Epoch 482/500\n",
      "Epoch 483/500\n",
      "Epoch 484/500\n",
      "Epoch 485/500\n",
      "Epoch 486/500\n",
      "Epoch 487/500\n",
      "Epoch 488/500\n",
      "Epoch 489/500\n",
      "Epoch 490/500\n",
      "Epoch 491/500\n",
      "Epoch 492/500\n",
      "Epoch 493/500\n",
      "Epoch 494/500\n",
      "Epoch 495/500\n",
      "Epoch 496/500\n",
      "Epoch 497/500\n",
      "Epoch 498/500\n",
      "Epoch 499/500\n",
      "Epoch 500/500\n"
     ]
    },
    {
     "data": {
      "text/plain": [
       "<keras.callbacks.History at 0x20c5752e4f0>"
      ]
     },
     "execution_count": 75,
     "metadata": {},
     "output_type": "execute_result"
    }
   ],
   "source": [
    "model.fit(x_train, y_train, epochs=500, validation_data=(x_test, y_test), shuffle=True, batch_size= 32, verbose=123)"
   ]
  },
  {
   "cell_type": "code",
   "execution_count": 79,
   "id": "32ad4e47",
   "metadata": {},
   "outputs": [
    {
     "name": "stdout",
     "output_type": "stream",
     "text": [
      "RMSE : 0.08932754615923359\n",
      "Score : 0.14354678980237756\n"
     ]
    }
   ],
   "source": [
    "ann_pred = model.predict(x_test)\n",
    "\n",
    "print(\"RMSE :\", np.sqrt(mean_squared_error(y_true= y_test, y_pred= ann_pred)))\n",
    "print(\"Score :\", r2_score(y_true= y_test, y_pred= ann_pred))"
   ]
  },
  {
   "cell_type": "code",
   "execution_count": 90,
   "id": "968816b5",
   "metadata": {},
   "outputs": [],
   "source": [
    "ann_pred_ = model.predict(test_df)"
   ]
  },
  {
   "cell_type": "code",
   "execution_count": 91,
   "id": "4c1845f4",
   "metadata": {},
   "outputs": [
    {
     "data": {
      "text/plain": [
       "numpy.ndarray"
      ]
     },
     "execution_count": 91,
     "metadata": {},
     "output_type": "execute_result"
    }
   ],
   "source": [
    "type(ann_pred_)"
   ]
  },
  {
   "cell_type": "code",
   "execution_count": 96,
   "id": "0a2abdd6",
   "metadata": {},
   "outputs": [],
   "source": [
    "ann_output = pd.DataFrame(ann_pred_)"
   ]
  },
  {
   "cell_type": "code",
   "execution_count": 98,
   "id": "a48111ac",
   "metadata": {},
   "outputs": [],
   "source": [
    "Dataset04 = pd.concat([test_val['campaign_id'], ann_output], axis=1)\n",
    "Dataset04.columns = test_val.columns"
   ]
  },
  {
   "cell_type": "code",
   "execution_count": 100,
   "id": "35374bd3",
   "metadata": {},
   "outputs": [
    {
     "data": {
      "text/html": [
       "<div>\n",
       "<style scoped>\n",
       "    .dataframe tbody tr th:only-of-type {\n",
       "        vertical-align: middle;\n",
       "    }\n",
       "\n",
       "    .dataframe tbody tr th {\n",
       "        vertical-align: top;\n",
       "    }\n",
       "\n",
       "    .dataframe thead th {\n",
       "        text-align: right;\n",
       "    }\n",
       "</style>\n",
       "<table border=\"1\" class=\"dataframe\">\n",
       "  <thead>\n",
       "    <tr style=\"text-align: right;\">\n",
       "      <th></th>\n",
       "      <th>campaign_id</th>\n",
       "      <th>click_rate</th>\n",
       "    </tr>\n",
       "  </thead>\n",
       "  <tbody>\n",
       "    <tr>\n",
       "      <th>0</th>\n",
       "      <td>1889</td>\n",
       "      <td>0.064948</td>\n",
       "    </tr>\n",
       "    <tr>\n",
       "      <th>1</th>\n",
       "      <td>1890</td>\n",
       "      <td>0.104636</td>\n",
       "    </tr>\n",
       "    <tr>\n",
       "      <th>2</th>\n",
       "      <td>1891</td>\n",
       "      <td>0.188561</td>\n",
       "    </tr>\n",
       "    <tr>\n",
       "      <th>3</th>\n",
       "      <td>1892</td>\n",
       "      <td>0.189130</td>\n",
       "    </tr>\n",
       "    <tr>\n",
       "      <th>4</th>\n",
       "      <td>1893</td>\n",
       "      <td>0.066745</td>\n",
       "    </tr>\n",
       "  </tbody>\n",
       "</table>\n",
       "</div>"
      ],
      "text/plain": [
       "   campaign_id  click_rate\n",
       "0         1889    0.064948\n",
       "1         1890    0.104636\n",
       "2         1891    0.188561\n",
       "3         1892    0.189130\n",
       "4         1893    0.066745"
      ]
     },
     "execution_count": 100,
     "metadata": {},
     "output_type": "execute_result"
    }
   ],
   "source": [
    "Dataset04.head()"
   ]
  },
  {
   "cell_type": "code",
   "execution_count": 101,
   "id": "98a8b2c4",
   "metadata": {},
   "outputs": [],
   "source": [
    "Dataset04.to_csv('sample_submission04.csv', index=False)"
   ]
  },
  {
   "cell_type": "code",
   "execution_count": null,
   "id": "48e73600",
   "metadata": {},
   "outputs": [],
   "source": [
    "from sklearn.metrics import accuracy_score, precision_score, recall_score, f"
   ]
  }
 ],
 "metadata": {
  "kernelspec": {
   "display_name": "Python 3 (ipykernel)",
   "language": "python",
   "name": "python3"
  },
  "language_info": {
   "codemirror_mode": {
    "name": "ipython",
    "version": 3
   },
   "file_extension": ".py",
   "mimetype": "text/x-python",
   "name": "python",
   "nbconvert_exporter": "python",
   "pygments_lexer": "ipython3",
   "version": "3.9.12"
  }
 },
 "nbformat": 4,
 "nbformat_minor": 5
}
